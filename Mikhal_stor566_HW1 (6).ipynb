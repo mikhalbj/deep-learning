{
  "nbformat": 4,
  "nbformat_minor": 0,
  "metadata": {
    "colab": {
      "provenance": [],
      "collapsed_sections": []
    },
    "kernelspec": {
      "name": "python3",
      "display_name": "Python 3"
    },
    "language_info": {
      "name": "python"
    }
  },
  "cells": [
    {
      "cell_type": "markdown",
      "source": [
        "# STOR 566, Homework 1\n",
        "### Instructor: Yao Li\n",
        "### Keywords: optimization\n",
        "### Due date: Sep 04 (moved to 7), 11:55pm\n",
        "### **Submission Instruction**\n",
        "\n",
        "- Please download this script and use it to answer the questions in the homework. \n",
        "- For submission, please include your code, code output and answers in the script and submit the ipynb file on sakai.\n",
        "- Please don't modify existing cells. But you can add cells between the exercise statements.\n",
        "- To make markdown, please switch the cell type to markdown (from code) - you can hit 'm' when you are in command mode - and use the markdown language. For a brief tutorial see: https://daringfireball.net/projects/markdown/syntax\n"
      ],
      "metadata": {
        "id": "0D6giqCEScfp"
      }
    },
    {
      "cell_type": "markdown",
      "source": [
        "## Mikhal Ben-Joseph\n",
        "\n",
        "I collaborated with Kyle Sorenson and Yesh Munagala in accordance with the UNC Honor Code. I also attended Office Hours with Minji Kim."
      ],
      "metadata": {
        "id": "NbEJ_4In6EVN"
      }
    },
    {
      "cell_type": "markdown",
      "source": [
        "## Problem 1 (10 points)\n",
        "\n",
        "Prove whether the following functions are convex or not.\n",
        "- (a) (5 points) $f(x_1,x_2)=(x_1x_2-1)^2$, where $x_1, x_2\\in \\mathbb{R}$.\n",
        "- (b) (5 points) $f(\\mathbf{w}_1, \\mathbf{w}_2)=\\|\\mathbf{w}_1-\\mathbf{w}_2\\|^2_2$,  where $\\mathbf{w}_1, \\mathbf{w}_2\\in \\mathbb{R}^2$.\n"
      ],
      "metadata": {
        "id": "rB6khqRukUzQ"
      }
    },
    {
      "cell_type": "markdown",
      "source": [
        "Solution of Problem 1 (a):"
      ],
      "metadata": {
        "id": "L_VY0XmUkteW"
      }
    },
    {
      "cell_type": "markdown",
      "source": [
        "To define a function as convex, we must check that the hessian is positive semi-definite (since these functions are twice differentiable). \n",
        "\n",
        "\n",
        "$\\begin{align*} ∇f(x_1, x_2) &= \\begin{bmatrix} 2(x_1x_2-1)(x_2) \\\\ 2(x_1x_2-1)(x_1) \\end{bmatrix} \\\\\n",
        "&= \\begin{bmatrix} 2(x_1x_2^2 - x_2) \\\\ 2(x_1^2x_2 - x_1) \\end{bmatrix} \\\\\n",
        "∇^2f(x_1, x_2) & = \\begin{bmatrix} 2x_2^2 & 2(2x_1x_2-1) \\\\ 2(2x_1x_2-1) & 2x_1^2\\end{bmatrix}\n",
        "\\end{align*}$\n",
        "\n",
        "Now to check that this is positive semi-definite, we will use the following rule:\n",
        " \n",
        "A is positive semi-definite if $x^TAx \\geq 0 , ∀x_1, x_2$. \n",
        "$\\begin{align*}\n",
        "x^TAx & = \\begin{bmatrix} x_1 & x_2 \\end{bmatrix} \\begin{bmatrix} 2x_2^2 & 2(2x_1x_2-1) \\\\ 2(2x_1x_2-1) & 2x_1^2\\end{bmatrix} \\begin{bmatrix} x_1 \\\\x_2 \\end{bmatrix} \\\\\n",
        "& = 12x_1^2x_2^2 - 4x_1x_2\n",
        "\\end{align*}$ \n",
        "\n",
        "Since this is not non-negative for all $x_1, x_2$, the function is not convex. \n"
      ],
      "metadata": {
        "id": "IH3JFwlKQJK1"
      }
    },
    {
      "cell_type": "markdown",
      "source": [
        "Answer: The function $f(x_1,x_2)=(x_1x_2-1)^2$ where $x_1, x_2\\in \\mathbb{R}$ is not convex."
      ],
      "metadata": {
        "id": "6Tigk4RBkyFb"
      }
    },
    {
      "cell_type": "markdown",
      "source": [
        "Solution of Problem 1 (b):\n",
        "Just as in part A, we will find the hessian and then check if it is positive semi-definite in order to determine if the function is convex.\n",
        "\n",
        "$\\begin{align*} ∇f(\\textbf{w}_1, \\textbf{w}_2) &= \\begin{bmatrix} 2(\\textbf{w}_1 - \\textbf{w}_2) \\\\ -2(\\textbf{w}_1 - \\textbf{w}_2)\\end{bmatrix} \\\\\n",
        "∇f^2 & = \\begin{bmatrix}2 & -2 \\\\ -2 & 2 \\end{bmatrix} \\\\\n",
        "x^TAx &  =  \\begin{bmatrix} x_1 & x_2 \\end{bmatrix} \\begin{bmatrix}2 & -2 \\\\ -2 & 2 \\end{bmatrix} \\begin{bmatrix} x_1 \\\\ x_2 \\end{bmatrix} \\\\\n",
        "& = 2x_1^2 - 4x_1x_2 + 2x_2^2 \\\\\n",
        "&= 2(x_1-x_2)^2 \\geq 0\n",
        "\\end{align*}$\n",
        "\n",
        "The hessian matrix is positive semi-definite, so the function is convex."
      ],
      "metadata": {
        "id": "sIrHUR8zk1Tp"
      }
    },
    {
      "cell_type": "markdown",
      "source": [
        "Answer: The function $f(\\mathbf{w}_1, \\mathbf{w}_2)=\\|\\mathbf{w}_1-\\mathbf{w}_2\\|^2_2$ where $\\mathbf{w}_1, \\mathbf{w}_2\\in \\mathbb{R}^2$ is convex."
      ],
      "metadata": {
        "id": "I0rrCHF0k32r"
      }
    },
    {
      "cell_type": "markdown",
      "source": [
        "## Problem 2 (10 points)\n",
        "\n",
        "Identify stationary points for $f(x) = 2x_1 +12x_2 +x^2_1 -3x^2_2$? Are they local minimum/maximum; global minimum/maximum or saddle points? Why?"
      ],
      "metadata": {
        "id": "HRihLtPqk6rB"
      }
    },
    {
      "cell_type": "markdown",
      "source": [
        "Answer:\n",
        "\n",
        "The stationary point (-1, 2) is a saddle point because the value of H in the second derivative test is less than 0 (i.e., one of the eigenvalues is positive while the other is negative).\n",
        "\n",
        "Further explanation:\n",
        "According to Fermat's rule: if $f: R^d → R$ is a multivariable function, $x^*$ is a stationary point of $f$ if $∇f(x^*) = 0$. \\\\\n",
        "$∇f = \\begin{bmatrix} 2 + 2x_1 \\\\ 12 - 6x_2 \\end{bmatrix}$\n",
        "\n",
        "Set each row equal to zero and solve so we have:\n",
        "\n",
        " $\\begin{align*}2 + 2x_1 &= 0 \\\\\n",
        " x_1 &= -1 \\\\\n",
        " 12 - 6x_2 &= 0 \\\\\n",
        " x_2 & = 2\n",
        " \\end{align*} $\n",
        "\n",
        " Which gives us our stationary point at (-1,2).\n",
        "\n",
        " If the function is convex,then the extrema point is global. To check for convexity, let's examine the hessian:\n",
        "\n",
        " $∇f^2(x_1, x_2) = \\begin{bmatrix} 2 & 0 \\\\ 0 & -6 \\end{bmatrix}$\n",
        "\n",
        "The matrix is not positive semi-definite because the principal minor of the 2x2 is -12. Therefore, the function is not convex and we will need to use the second derivative test to check if it is a local maximum or local minimum or saddle point.\n",
        "\n",
        "$\\begin{align*} H &= f_{xx}(x, y) * f_{yy}(x, y) - f_{xy}(x, y)^2 \\\\\n",
        "&= 2(-6) + 0 \\\\ &= -12 < 0 \\end{align*} $ \n",
        "\n",
        "We have a saddle point according to the second derivative test using the discriminant. One of the eigenvalues of the hessian is positive and one is negative."
      ],
      "metadata": {
        "id": "PG1_3Bemk79P"
      }
    },
    {
      "cell_type": "markdown",
      "source": [
        "## Problem 3 (80 points)\n",
        "\n",
        "Given training data $\\{\\mathbf{x}_i, y_i\\}^n_{i=1}$, each $x_i\\in \\mathbb{R}^d$ and $y_i \\in \\{+1, -1\\}$, we try to solve the following logistic regression problem by gradient descent:\n",
        "\\begin{align}\n",
        "\\min_{\\mathbf{w}\\in R^d}\\left\\{\\frac{1}{n}\\sum_{i=1}^n\\log(1+e^{-y_i\\mathbf{w}^T\\mathbf{x}_i})+\\frac{1}{2}\\|\\mathbf{w}\\|^2_2  \\right\\} := f(\\mathbf{w}).\n",
        "\\end{align}\n",
        "Test the algorithm using the 'heart scale' dataset with $n = 270$ and $d = 13$: the matrix $\\mathbf{X}$ is stored in the file 'X$\\_$heart', and the vector $\\mathbf{y}$ is stored in the file 'y$\\_$heart'. ('X$\\_$heart' contains $n$ lines, each line stores a vector $\\mathbf{x}_i$ with $d$ real numbers. 'y$\\_$heart' contains the $\\mathbf{y}$ vector.)"
      ],
      "metadata": {
        "id": "kegz8m6glB3d"
      }
    },
    {
      "cell_type": "code",
      "source": [
        "import os\n",
        "import time\n",
        "import numpy as np\n",
        "import math\n",
        "from numpy import linalg as la\n",
        "from tqdm import tqdm\n",
        "import torch\n",
        "import torch.nn as nn\n",
        "import torch.optim as optim\n",
        "import pandas as pd\n",
        "import io\n",
        "import matplotlib.pyplot as plt\n",
        "\n",
        "#importing some useful tools"
      ],
      "metadata": {
        "id": "mp22ZvQFl_sL"
      },
      "execution_count": 2,
      "outputs": []
    },
    {
      "cell_type": "code",
      "source": [
        "## Please implement data loading yourself"
      ],
      "metadata": {
        "id": "c1dXtcBGqZmv"
      },
      "execution_count": 3,
      "outputs": []
    },
    {
      "cell_type": "code",
      "source": [
        "from google.colab import files\n",
        "uploaded = files.upload()"
      ],
      "metadata": {
        "colab": {
          "resources": {
            "http://localhost:8080/nbextensions/google.colab/files.js": {
              "data": "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",
              "ok": true,
              "headers": [
                [
                  "content-type",
                  "application/javascript"
                ]
              ],
              "status": 200,
              "status_text": ""
            }
          },
          "base_uri": "https://localhost:8080/",
          "height": 107
        },
        "id": "IQSKUJtxmKVw",
        "outputId": "a77b3b84-b1a1-4c60-b8e4-095ea6f517cc"
      },
      "execution_count": 4,
      "outputs": [
        {
          "output_type": "display_data",
          "data": {
            "text/plain": [
              "<IPython.core.display.HTML object>"
            ],
            "text/html": [
              "\n",
              "     <input type=\"file\" id=\"files-a9a12fab-4bd1-4d71-854e-527614f1d593\" name=\"files[]\" multiple disabled\n",
              "        style=\"border:none\" />\n",
              "     <output id=\"result-a9a12fab-4bd1-4d71-854e-527614f1d593\">\n",
              "      Upload widget is only available when the cell has been executed in the\n",
              "      current browser session. Please rerun this cell to enable.\n",
              "      </output>\n",
              "      <script src=\"/nbextensions/google.colab/files.js\"></script> "
            ]
          },
          "metadata": {}
        },
        {
          "output_type": "stream",
          "name": "stdout",
          "text": [
            "Saving X_heart to X_heart (1)\n",
            "Saving y_heart to y_heart (1)\n"
          ]
        }
      ]
    },
    {
      "cell_type": "code",
      "source": [
        "## Load data:\n",
        "\n",
        "X_heart = pd.read_csv(io.BytesIO(uploaded['X_heart']), sep = ' ', header = None)\n",
        "X_heart = X_heart.to_numpy()\n",
        "X_heart"
      ],
      "metadata": {
        "id": "sJStVuRpqkzS",
        "colab": {
          "base_uri": "https://localhost:8080/"
        },
        "outputId": "2a350a63-8cca-46ed-aa80-9ce9bf360ba6"
      },
      "execution_count": 5,
      "outputs": [
        {
          "output_type": "execute_result",
          "data": {
            "text/plain": [
              "array([[ 0.70833,  1.     ,  1.     , ...,  0.     ,  1.     , -1.     ],\n",
              "       [ 0.58333, -1.     ,  0.33333, ...,  0.     , -1.     ,  1.     ],\n",
              "       [ 0.16667,  1.     , -0.33333, ..., -1.     , -1.     ,  1.     ],\n",
              "       ...,\n",
              "       [ 0.125  , -1.     , -0.33333, ...,  0.     , -1.     , -1.     ],\n",
              "       [ 0.16667,  1.     ,  1.     , ...,  0.     , -1.     ,  0.5    ],\n",
              "       [ 0.58333,  1.     ,  1.     , ...,  0.     ,  1.     , -1.     ]])"
            ]
          },
          "metadata": {},
          "execution_count": 5
        }
      ]
    },
    {
      "cell_type": "code",
      "source": [
        "y_heart = pd.read_csv(io.BytesIO(uploaded['y_heart']), header = None)\n",
        "print(y_heart.head())\n",
        "y_heart = y_heart.to_numpy()\n",
        "y_heart_ravel = y_heart.ravel()\n",
        "print(y_heart_ravel.shape)"
      ],
      "metadata": {
        "id": "iegpMZtcxPJF",
        "colab": {
          "base_uri": "https://localhost:8080/"
        },
        "outputId": "a7a1fbf8-b495-4a49-a5fb-8e36e602ae46"
      },
      "execution_count": 6,
      "outputs": [
        {
          "output_type": "stream",
          "name": "stdout",
          "text": [
            "   0\n",
            "0  1\n",
            "1 -1\n",
            "2  1\n",
            "3 -1\n",
            "4 -1\n",
            "(270,)\n"
          ]
        }
      ]
    },
    {
      "cell_type": "markdown",
      "source": [
        "### (a) (5 points) Compute the gradient of $f(\\mathbf{w})$ w.r.t. $\\mathbf{w}$."
      ],
      "metadata": {
        "id": "vZWcD3ufnEcJ"
      }
    },
    {
      "cell_type": "markdown",
      "source": [
        "Answer:\n",
        "Using the rule for the derivative of a log and the definition of the 2-norm we have:\n",
        "\n",
        "$ \\begin{align*} \n",
        "f(\\mathbf{w}) & = \\frac{1}{n}\\sum_{i=1}^n\\log(1+e^{-y_i\\mathbf{w}^T\\mathbf{x}_i})+\\frac{1}{2}\\|\\mathbf{w}\\|^2_2 \\\\\n",
        "∇f(\\mathbf{w}) &= \\frac{1}{n}\\sum_{i=1}^n \\frac{-y_ix_ie^{-y_i\\mathbf{w}^T\\mathbf{x}_i}}{(ln(e))(1+e^{-y_i\\mathbf{w}^T\\mathbf{x}_i})} + \\mathbf{w} \\\\\n",
        "∇f(\\mathbf{w}) &= \\frac{1}{n}\\sum_{i=1}^n \\frac{-y_ix_ie^{-y_i\\mathbf{w}^T\\mathbf{x}_i}}{1+e^{-y_i\\mathbf{w}^T\\mathbf{x}_i}} + \\mathbf{w}\n",
        "\\end{align*} $"
      ],
      "metadata": {
        "id": "_KmlQojYnL1a"
      }
    },
    {
      "cell_type": "markdown",
      "source": [
        "### (b) (30 points) Implement the gradient descent algorithm with a fixed step size $\\eta$. Find a small $\\eta_1$ such that the algorithm converges. Increase the step size to $\\eta_2$ so the algorithm cannot converge. Run 50 iterations and plot the iteration versus $\\log(f(\\mathbf{x}^k) -f(\\mathbf{x}^*))$ plot for $\\eta_1$ and $\\eta_2$. In practice it is impossible to get the exact optimal solution $\\mathbf{x}^*$, so use the minimum value you computed as $f(\\mathbf{x}^*)$ when you plot the figure. Report the $f(\\mathbf{x}^*)$ value you used for generating the plots."
      ],
      "metadata": {
        "id": "KYWHWEGinOyC"
      }
    },
    {
      "cell_type": "code",
      "source": [
        "## Implementation of GD\n",
        "## You can insert more code chunks and text cells between (b) and (c) if you want to.\n",
        "## Your code:"
      ],
      "metadata": {
        "id": "L8pJfqcHm89-"
      },
      "execution_count": 7,
      "outputs": []
    },
    {
      "cell_type": "code",
      "source": [
        "  \n",
        "# Logistic Loss with L2 Regularization \n",
        "\n",
        "n = len(X_heart)\n",
        "\n",
        "def my_gradient(X, y, w):\n",
        "\n",
        "    # I built this code in pieces to easily debug dimensionality issues\n",
        "\n",
        "    yTXw = np.multiply(y,(np.dot(X, w)))\n",
        "    # print(\"yTXw\" , yTXw.shape)\n",
        "    # print(np.dot(X.T, y).shape)\n",
        "\n",
        "    div = np.divide((np.exp(-yTXw)), (1 + np.exp(-yTXw) ))\n",
        "    # print(\"div shape\", div.shape)\n",
        "    product = -np.dot(np.divide(y*np.exp(-yTXw), 1.0 + np.exp(-yTXw)).T,X)\n",
        "    # print(\"product shape\", product.shape)\n",
        "   \n",
        "    grad = ((1/X.shape[0]) * product) + w\n",
        "    # print(\"((1/X.shape[0]) * product)\", ((1/X.shape[0]) * product).shape)\n",
        "    # print(grad.shape)\n",
        "    return grad\n"
      ],
      "metadata": {
        "id": "nc6NSytn45jN"
      },
      "execution_count": 8,
      "outputs": []
    },
    {
      "cell_type": "code",
      "source": [
        "# We will use beta0 or beta1 as the initial weights throughout the remainder of this homework\n",
        "\n",
        "beta0= np.zeros(X_heart.shape[1])\n",
        "beta1 =  np.ones(X_heart.shape[1])\n",
        "my_gradient(X_heart,y_heart_ravel, beta1)\n"
      ],
      "metadata": {
        "colab": {
          "base_uri": "https://localhost:8080/"
        },
        "id": "UNZLUz4XddMQ",
        "outputId": "4650243e-b2a4-4ed1-ff53-b9ee6ba0f759"
      },
      "execution_count": 23,
      "outputs": [
        {
          "output_type": "execute_result",
          "data": {
            "text/plain": [
              "array([0.989812  , 0.91035872, 0.88347504, 1.05226997, 1.07088846,\n",
              "       1.17841771, 1.030824  , 0.99296678, 1.04583797, 1.10093331,\n",
              "       1.06646291, 1.06226594, 0.97773412])"
            ]
          },
          "metadata": {},
          "execution_count": 23
        }
      ]
    },
    {
      "cell_type": "code",
      "source": [
        "def Objective_Eval(X, y, w):\n",
        "    \n",
        "    n = X.shape[0]\n",
        "      ## Note here that we want to sum over all the row entries of the data matrix X_heart\n",
        "      ## This is equivalent to performing y.T (times) X (dot) w when you work out the linear algebra\n",
        "    yTXw = np.multiply(y,(np.dot(X, w)))\n",
        "    # print(yTXw.shape)\n",
        "    sum = np.sum(np.log(1 + np.exp(-yTXw)))\n",
        "    # print(\"np.exp(-yTXw)\", np.exp(-yTXw).shape)\n",
        "    # print(\"np.log(1 + np.exp(-yTXw)\", np.log(1 + np.exp(-yTXw)).shape)\n",
        "    # print(\"Sum shape\", sum.shape, sum)\n",
        "    reg = 1/2 * (la.norm(w))**2 \n",
        "    obj = (1/n) *  sum + reg\n",
        "    return obj   "
      ],
      "metadata": {
        "id": "3ZZ7UIEq3LuI"
      },
      "execution_count": 10,
      "outputs": []
    },
    {
      "cell_type": "code",
      "source": [
        "Objective_Eval(X_heart, y_heart, beta0)"
      ],
      "metadata": {
        "colab": {
          "base_uri": "https://localhost:8080/"
        },
        "id": "WhdvaSxQMJ-Z",
        "outputId": "e0ddec82-6a34-4714-b771-e24d1bff9f54"
      },
      "execution_count": 11,
      "outputs": [
        {
          "output_type": "execute_result",
          "data": {
            "text/plain": [
              "187.14973875118523"
            ]
          },
          "metadata": {},
          "execution_count": 11
        }
      ]
    },
    {
      "cell_type": "code",
      "source": [
        "# Please Note: the code below is adapted from code from Profesor Quoc's STOR 590 class, which I took last semester.\n",
        "\n",
        "def GD(X, y, objective_func, objective_grad, eta, x0, max_iter, tol):\n",
        "    \n",
        "    # Initialization\n",
        "    beta_cur = x0\n",
        "    \n",
        "    # Store iterates\n",
        "    fx_values = []\n",
        "    \n",
        "    for t in range(0, max_iter):\n",
        "        \n",
        "        # Evaluate the value and gradient of objective function\n",
        "        grad_fx = objective_grad(X, y, beta_cur)\n",
        "        fx_val  = objective_func(X, y, beta_cur)\n",
        "        \n",
        "        # Compute the relative error\n",
        "        err = la.norm(grad_fx)\n",
        "        fx_values.append(fx_val)\n",
        "        \n",
        "        print(\"Iter={:4d}, F(x)={:^3.4e}, Error={:^3.4e}\".format(t, fx_val, err))\n",
        "         \n",
        "        # Has it converged yet?\n",
        "        if err < tol:\n",
        "            print(\"Convergence\")\n",
        "            break\n",
        "        \n",
        "        # Update step\n",
        "        beta_cur = beta_cur - eta*grad_fx\n",
        "        \n",
        "    return beta_cur, fx_val, err, fx_values"
      ],
      "metadata": {
        "id": "mZBTJow7Evm_"
      },
      "execution_count": 12,
      "outputs": []
    },
    {
      "cell_type": "code",
      "source": [
        "def plot_iter(hist, small, eta):\n",
        "  plt.plot(range(0,len(hist)), np.log(hist - small))\n",
        "  plt.title(f\"Gradient Descent with min at {round(small, 5)} and eta {eta}\")\n",
        "  plt.ylabel('log(f(x_t) - f(x*))')\n",
        "  plt.xlabel('Iteration')\n",
        "  plt.show()  "
      ],
      "metadata": {
        "id": "3YpYrcsS_AYb"
      },
      "execution_count": 13,
      "outputs": []
    },
    {
      "cell_type": "code",
      "source": [
        "beta_t1, f_val1, err1, hist1 = GD(X_heart, y_heart_ravel, Objective_Eval, my_gradient, 0.01, beta0, max_iter=50, tol=1e-3)"
      ],
      "metadata": {
        "colab": {
          "base_uri": "https://localhost:8080/"
        },
        "id": "7yQIxWgjFsqP",
        "outputId": "9ba6fe45-7d91-44e6-a1fe-7b146233fee7"
      },
      "execution_count": 14,
      "outputs": [
        {
          "output_type": "stream",
          "name": "stdout",
          "text": [
            "Iter=   0, F(x)=6.9315e-01, Error=4.6794e-01\n",
            "Iter=   1, F(x)=6.9097e-01, Error=4.6095e-01\n",
            "Iter=   2, F(x)=6.8886e-01, Error=4.5407e-01\n",
            "Iter=   3, F(x)=6.8682e-01, Error=4.4730e-01\n",
            "Iter=   4, F(x)=6.8483e-01, Error=4.4063e-01\n",
            "Iter=   5, F(x)=6.8291e-01, Error=4.3406e-01\n",
            "Iter=   6, F(x)=6.8104e-01, Error=4.2759e-01\n",
            "Iter=   7, F(x)=6.7922e-01, Error=4.2122e-01\n",
            "Iter=   8, F(x)=6.7746e-01, Error=4.1495e-01\n",
            "Iter=   9, F(x)=6.7575e-01, Error=4.0878e-01\n",
            "Iter=  10, F(x)=6.7409e-01, Error=4.0270e-01\n",
            "Iter=  11, F(x)=6.7248e-01, Error=3.9671e-01\n",
            "Iter=  12, F(x)=6.7092e-01, Error=3.9082e-01\n",
            "Iter=  13, F(x)=6.6940e-01, Error=3.8502e-01\n",
            "Iter=  14, F(x)=6.6793e-01, Error=3.7930e-01\n",
            "Iter=  15, F(x)=6.6650e-01, Error=3.7368e-01\n",
            "Iter=  16, F(x)=6.6512e-01, Error=3.6814e-01\n",
            "Iter=  17, F(x)=6.6377e-01, Error=3.6268e-01\n",
            "Iter=  18, F(x)=6.6247e-01, Error=3.5731e-01\n",
            "Iter=  19, F(x)=6.6120e-01, Error=3.5203e-01\n",
            "Iter=  20, F(x)=6.5997e-01, Error=3.4682e-01\n",
            "Iter=  21, F(x)=6.5878e-01, Error=3.4169e-01\n",
            "Iter=  22, F(x)=6.5762e-01, Error=3.3664e-01\n",
            "Iter=  23, F(x)=6.5649e-01, Error=3.3167e-01\n",
            "Iter=  24, F(x)=6.5540e-01, Error=3.2678e-01\n",
            "Iter=  25, F(x)=6.5434e-01, Error=3.2196e-01\n",
            "Iter=  26, F(x)=6.5331e-01, Error=3.1721e-01\n",
            "Iter=  27, F(x)=6.5231e-01, Error=3.1254e-01\n",
            "Iter=  28, F(x)=6.5134e-01, Error=3.0794e-01\n",
            "Iter=  29, F(x)=6.5040e-01, Error=3.0341e-01\n",
            "Iter=  30, F(x)=6.4949e-01, Error=2.9895e-01\n",
            "Iter=  31, F(x)=6.4860e-01, Error=2.9455e-01\n",
            "Iter=  32, F(x)=6.4774e-01, Error=2.9023e-01\n",
            "Iter=  33, F(x)=6.4690e-01, Error=2.8597e-01\n",
            "Iter=  34, F(x)=6.4609e-01, Error=2.8177e-01\n",
            "Iter=  35, F(x)=6.4530e-01, Error=2.7764e-01\n",
            "Iter=  36, F(x)=6.4454e-01, Error=2.7357e-01\n",
            "Iter=  37, F(x)=6.4380e-01, Error=2.6956e-01\n",
            "Iter=  38, F(x)=6.4307e-01, Error=2.6562e-01\n",
            "Iter=  39, F(x)=6.4237e-01, Error=2.6173e-01\n",
            "Iter=  40, F(x)=6.4169e-01, Error=2.5791e-01\n",
            "Iter=  41, F(x)=6.4103e-01, Error=2.5414e-01\n",
            "Iter=  42, F(x)=6.4039e-01, Error=2.5043e-01\n",
            "Iter=  43, F(x)=6.3977e-01, Error=2.4677e-01\n",
            "Iter=  44, F(x)=6.3917e-01, Error=2.4318e-01\n",
            "Iter=  45, F(x)=6.3858e-01, Error=2.3963e-01\n",
            "Iter=  46, F(x)=6.3801e-01, Error=2.3614e-01\n",
            "Iter=  47, F(x)=6.3746e-01, Error=2.3270e-01\n",
            "Iter=  48, F(x)=6.3692e-01, Error=2.2932e-01\n",
            "Iter=  49, F(x)=6.3640e-01, Error=2.2598e-01\n"
          ]
        }
      ]
    },
    {
      "cell_type": "markdown",
      "source": [
        "α at 0.01 is too small to converge within 50 iterations. So, to answer the exact question in the homework of finding an alpha which converges within 50 iterations, we know we'll need to use a slightly bigger α. Please see the code below."
      ],
      "metadata": {
        "id": "UJNB6GFyUXD1"
      }
    },
    {
      "cell_type": "code",
      "source": [
        "beta_t2, f_val2, err2, hist2 = GD(X_heart, y_heart_ravel, Objective_Eval, my_gradient, 0.15, beta0, max_iter=50, tol=1e-3)"
      ],
      "metadata": {
        "colab": {
          "base_uri": "https://localhost:8080/"
        },
        "id": "gQx_P19sqX5-",
        "outputId": "959017dc-8726-4204-cd62-e8cc3c0112b0"
      },
      "execution_count": 15,
      "outputs": [
        {
          "output_type": "stream",
          "name": "stdout",
          "text": [
            "Iter=   0, F(x)=6.9315e-01, Error=4.6794e-01\n",
            "Iter=   1, F(x)=6.6398e-01, Error=3.6337e-01\n",
            "Iter=   2, F(x)=6.4637e-01, Error=2.8298e-01\n",
            "Iter=   3, F(x)=6.3568e-01, Error=2.2104e-01\n",
            "Iter=   4, F(x)=6.2914e-01, Error=1.7317e-01\n",
            "Iter=   5, F(x)=6.2513e-01, Error=1.3604e-01\n",
            "Iter=   6, F(x)=6.2265e-01, Error=1.0714e-01\n",
            "Iter=   7, F(x)=6.2111e-01, Error=8.4580e-02\n",
            "Iter=   8, F(x)=6.2015e-01, Error=6.6909e-02\n",
            "Iter=   9, F(x)=6.1955e-01, Error=5.3033e-02\n",
            "Iter=  10, F(x)=6.1917e-01, Error=4.2112e-02\n",
            "Iter=  11, F(x)=6.1893e-01, Error=3.3497e-02\n",
            "Iter=  12, F(x)=6.1878e-01, Error=2.6688e-02\n",
            "Iter=  13, F(x)=6.1868e-01, Error=2.1296e-02\n",
            "Iter=  14, F(x)=6.1862e-01, Error=1.7018e-02\n",
            "Iter=  15, F(x)=6.1858e-01, Error=1.3619e-02\n",
            "Iter=  16, F(x)=6.1856e-01, Error=1.0914e-02\n",
            "Iter=  17, F(x)=6.1854e-01, Error=8.7588e-03\n",
            "Iter=  18, F(x)=6.1853e-01, Error=7.0384e-03\n",
            "Iter=  19, F(x)=6.1852e-01, Error=5.6633e-03\n",
            "Iter=  20, F(x)=6.1852e-01, Error=4.5629e-03\n",
            "Iter=  21, F(x)=6.1852e-01, Error=3.6810e-03\n",
            "Iter=  22, F(x)=6.1851e-01, Error=2.9735e-03\n",
            "Iter=  23, F(x)=6.1851e-01, Error=2.4050e-03\n",
            "Iter=  24, F(x)=6.1851e-01, Error=1.9476e-03\n",
            "Iter=  25, F(x)=6.1851e-01, Error=1.5793e-03\n",
            "Iter=  26, F(x)=6.1851e-01, Error=1.2822e-03\n",
            "Iter=  27, F(x)=6.1851e-01, Error=1.0423e-03\n",
            "Iter=  28, F(x)=6.1851e-01, Error=8.4833e-04\n",
            "Convergence\n"
          ]
        }
      ]
    },
    {
      "cell_type": "markdown",
      "source": [
        "When α = 0.15 the algorithm converges within 50 iterations!"
      ],
      "metadata": {
        "id": "VMEwpDj7UxiD"
      }
    },
    {
      "cell_type": "markdown",
      "source": [
        "Plot of a small step size $\\eta_1$:"
      ],
      "metadata": {
        "id": "IlxfxSzOnyjW"
      }
    },
    {
      "cell_type": "code",
      "source": [
        "smallest = np.min(hist2)\n",
        "\n",
        "plot_iter(hist2, smallest, eta = 0.15)"
      ],
      "metadata": {
        "colab": {
          "base_uri": "https://localhost:8080/",
          "height": 330
        },
        "id": "49jw1AXtAmG6",
        "outputId": "21e19b1e-b516-4c16-aaa0-a82adb8a1c11"
      },
      "execution_count": 16,
      "outputs": [
        {
          "output_type": "stream",
          "name": "stderr",
          "text": [
            "/usr/local/lib/python3.7/dist-packages/ipykernel_launcher.py:2: RuntimeWarning: divide by zero encountered in log\n",
            "  \n"
          ]
        },
        {
          "output_type": "display_data",
          "data": {
            "text/plain": [
              "<Figure size 432x288 with 1 Axes>"
            ],
            "image/png": "[encoded data removed]"
          },
          "metadata": {
            "needs_background": "light"
          }
        }
      ]
    },
    {
      "cell_type": "markdown",
      "source": [
        "Plot of a small step size $\\eta_2$:"
      ],
      "metadata": {
        "id": "NUYIuw_an2tV"
      }
    },
    {
      "cell_type": "markdown",
      "source": [
        "Now I will show the small step size $η_2$ where the loss diverges instead of converging to 0."
      ],
      "metadata": {
        "id": "XSm-mbbWBNKE"
      }
    },
    {
      "cell_type": "code",
      "source": [
        "beta_t3, f_val3, err3, hist3 = GD(X_heart, y_heart_ravel, Objective_Eval, my_gradient, 2, beta0, max_iter=50, tol=1e-3)"
      ],
      "metadata": {
        "colab": {
          "base_uri": "https://localhost:8080/"
        },
        "id": "JP9KiTas_ixo",
        "outputId": "5ab3785c-43fe-48db-ebe2-05f8ab5b47ba"
      },
      "execution_count": 17,
      "outputs": [
        {
          "output_type": "stream",
          "name": "stdout",
          "text": [
            "Iter=   0, F(x)=6.9315e-01, Error=4.6794e-01\n",
            "Iter=   1, F(x)=8.8586e-01, Error=8.4860e-01\n",
            "Iter=   2, F(x)=1.5133e+00, Error=1.6132e+00\n",
            "Iter=   3, F(x)=3.6099e+00, Error=2.6030e+00\n",
            "Iter=   4, F(x)=7.0622e+00, Error=3.8450e+00\n",
            "Iter=   5, F(x)=1.3327e+01, Error=5.1540e+00\n",
            "Iter=   6, F(x)=2.0697e+01, Error=6.5066e+00\n",
            "Iter=   7, F(x)=3.1042e+01, Error=7.8839e+00\n",
            "Iter=   8, F(x)=4.2517e+01, Error=9.2776e+00\n",
            "Iter=   9, F(x)=5.7003e+01, Error=1.0685e+01\n",
            "Iter=  10, F(x)=7.2697e+01, Error=1.2103e+01\n",
            "Iter=  11, F(x)=9.1403e+01, Error=1.3529e+01\n",
            "Iter=  12, F(x)=1.1138e+02, Error=1.4962e+01\n",
            "Iter=  13, F(x)=1.3436e+02, Error=1.6401e+01\n",
            "Iter=  14, F(x)=1.5866e+02, Error=1.7845e+01\n",
            "Iter=  15, F(x)=1.8597e+02, Error=1.9293e+01\n",
            "Iter=  16, F(x)=2.1463e+02, Error=2.0745e+01\n",
            "Iter=  17, F(x)=2.4631e+02, Error=2.2202e+01\n",
            "Iter=  18, F(x)=2.7938e+02, Error=2.3662e+01\n",
            "Iter=  19, F(x)=3.1546e+02, Error=2.5125e+01\n",
            "Iter=  20, F(x)=3.5297e+02, Error=2.6590e+01\n",
            "Iter=  21, F(x)=3.9348e+02, Error=2.8059e+01\n",
            "Iter=  22, F(x)=4.3547e+02, Error=2.9530e+01\n",
            "Iter=  23, F(x)=4.8045e+02, Error=3.1004e+01\n",
            "Iter=  24, F(x)=5.2691e+02, Error=3.2480e+01\n",
            "Iter=  25, F(x)=5.7638e+02, Error=3.3958e+01\n",
            "Iter=  26, F(x)=6.2734e+02, Error=3.5437e+01\n",
            "Iter=  27, F(x)=6.8130e+02, Error=3.6919e+01\n",
            "Iter=  28, F(x)=7.3677e+02, Error=3.8401e+01\n",
            "Iter=  29, F(x)=7.9522e+02, Error=3.9885e+01\n",
            "Iter=  30, F(x)=8.5520e+02, Error=4.1371e+01\n",
            "Iter=  31, F(x)=9.1815e+02, Error=4.2857e+01\n",
            "Iter=  32, F(x)=9.8263e+02, Error=4.4344e+01\n",
            "Iter=  33, F(x)=1.0501e+03, Error=4.5832e+01\n",
            "Iter=  34, F(x)=1.1191e+03, Error=4.7321e+01\n",
            "Iter=  35, F(x)=1.1910e+03, Error=4.8811e+01\n",
            "Iter=  36, F(x)=1.2645e+03, Error=5.0301e+01\n",
            "Iter=  37, F(x)=1.3410e+03, Error=5.1792e+01\n",
            "Iter=  38, F(x)=1.4190e+03, Error=5.3284e+01\n",
            "Iter=  39, F(x)=1.5000e+03, Error=5.4776e+01\n",
            "Iter=  40, F(x)=1.5825e+03, Error=5.6268e+01\n",
            "Iter=  41, F(x)=1.6680e+03, Error=5.7761e+01\n",
            "Iter=  42, F(x)=1.7550e+03, Error=5.9255e+01\n",
            "Iter=  43, F(x)=1.8450e+03, Error=6.0748e+01\n",
            "Iter=  44, F(x)=1.9365e+03, Error=6.2243e+01\n",
            "Iter=  45, F(x)=2.0310e+03, Error=6.3737e+01\n",
            "Iter=  46, F(x)=2.1270e+03, Error=6.5232e+01\n",
            "Iter=  47, F(x)=2.2260e+03, Error=6.6727e+01\n",
            "Iter=  48, F(x)=2.3266e+03, Error=6.8222e+01\n",
            "Iter=  49, F(x)=2.4301e+03, Error=6.9718e+01\n"
          ]
        }
      ]
    },
    {
      "cell_type": "code",
      "source": [
        "plot_iter(hist3, smallest, 2)"
      ],
      "metadata": {
        "colab": {
          "base_uri": "https://localhost:8080/",
          "height": 295
        },
        "id": "aJKCFXOkA2UF",
        "outputId": "f011d351-ffd1-4ca3-e607-5a77a8c2b213"
      },
      "execution_count": 18,
      "outputs": [
        {
          "output_type": "display_data",
          "data": {
            "text/plain": [
              "<Figure size 432x288 with 1 Axes>"
            ],
            "image/png": "[encoded data removed]"
          },
          "metadata": {
            "needs_background": "light"
          }
        }
      ]
    },
    {
      "cell_type": "markdown",
      "source": [
        "The $f(\\mathbf{x}^*)$ value used is the minimum value of the objective from the run with eta = 0.1, which is approximately 0.61851. \n",
        "\n",
        "Please note, I used the same minimum value $f(\\mathbf{x}^*)$ for all the plots in this section; not the minimum value within each different run of the algorithm. Minji said that would be okay.\n",
        "\n"
      ],
      "metadata": {
        "id": "iG6GtonCnuvU"
      }
    },
    {
      "cell_type": "markdown",
      "source": [
        "### (c) (5 points) Write down the pseudo code of gradient descent with backtracking line search ($\\sigma=0.01$)."
      ],
      "metadata": {
        "id": "2CSl47RKppHM"
      }
    },
    {
      "cell_type": "markdown",
      "source": [
        "Pseudo code:\n",
        "The following is essentialy what we went over in class on slide 8.\n",
        "\n",
        "Initialize $w_0$ to some random values. Note that $\\textbf{d}$ is the direction of descent, or the negative gradient.\n",
        "\n",
        "For each t in (1, 2, 3...,max # iterations):\n",
        "\n",
        "\n",
        "*     Compute the descent direction: $d = - \\nabla f(w) $\n",
        "*   For $\\alpha = \\alpha_{0}, \\alpha_0/2, \\alpha_0 / 4... $\n",
        "  * Check if $f(\\textbf{w} + α\\textbf{d}) \\leq f(\\textbf{w}) + \\sigma α \\nabla f(w)^T\\textbf{d}$, then break (i.e., your α remains at the value)\n",
        "  * Else, update  $\\textbf{w} ← \\textbf{w} + \\alpha \\textbf{d}$\n",
        "* Return final solution $\\textbf{w}$\n",
        "\n",
        "In words, what we're checking is if the value of alpha is sufficiently small to cause a decrease in the value of the objective function. If the step size is too large, it's possible that we may overshoot or not converge.\n",
        "\n",
        "In slightly more detailed psuedocode, it would look like this:\n",
        " * While t < maximum # iterations\n",
        "  * Compute the descent direction $d = - \\nabla f(w) $\n",
        "  * While $f(\\textbf{w} + α\\textbf{d})  > f(\\textbf{w}) + \\sigma α \\nabla f(w)^T\\textbf{d}$:\n",
        "    *  update  $\\textbf{w} ← \\textbf{w} + \\alpha \\textbf{d}$\n",
        "    * divide α by 2.\n",
        "\n",
        "  * update the values for descent, the function value, and the weights\n",
        "  *t = t+1\n",
        "  \n",
        "* Return final solution $\\textbf{w}$\n"
      ],
      "metadata": {
        "id": "yfYLYqLgp4i5"
      }
    },
    {
      "cell_type": "markdown",
      "source": [
        "### (d) (20 points) Implement the gradient descent algorithm with backtracking line search ($\\sigma=0.01$). Plot the same iteration versus $\\log(f(\\mathbf{x}^k) -f(\\mathbf{x}^*))$ plot."
      ],
      "metadata": {
        "id": "peboWtMBp62-"
      }
    },
    {
      "cell_type": "code",
      "source": [
        "## Implementation of GD with line search\n",
        "## You can insert more code chunks and text cells between (d) and (e) if you want to.\n",
        "## Your code:\n",
        "\n",
        "def LineSearch(X, y, obj_fun, obj_grad, initial_alpha, x0, max_iter=50):\n",
        "    \n",
        "    w_cur = x0\n",
        "    t = 0\n",
        "    hist_fx = []\n",
        "    hist_grad = []\n",
        "    hist_alpha = []\n",
        "\n",
        "    fx_cur = obj_fun(X, y, w_cur)\n",
        "    grad_cur = obj_grad(X, y, w_cur)\n",
        "\n",
        "    # Starting the line search\n",
        "    while t < max_iter and la.norm(grad_cur) > 1e-03:\n",
        "      t += 1\n",
        "\n",
        "      # Initialize the values we start with in each iteration\n",
        "      descent = -1 * grad_cur\n",
        "      alpha = initial_alpha\n",
        "      w_new = w_cur + alpha*descent\n",
        "      fx_new = obj_fun(X, y, w_new)\n",
        "      grad_new = obj_grad(X, y, w_new)\n",
        "\n",
        "      # Loop until the sufficient decrease condition is met\n",
        "      while obj_fun(X, y, w_new) > obj_fun(X, y, w_cur) + 0.01*alpha*(np.dot(obj_grad(X, y, w_cur).T, descent)):\n",
        "        alpha = alpha/2\n",
        "        w_new = w_cur + alpha*descent\n",
        "        fx_new = obj_fun(X, y, w_new)\n",
        "        grad_new = obj_grad(X, y, w_new)\n",
        "\n",
        "      # Update the values:\n",
        "      w_cur = w_new\n",
        "      fx_cur = fx_new\n",
        "      grad_cur = grad_new\n",
        "\n",
        "\n",
        "      # Keepting track of the steps\n",
        "      hist_fx.append(fx_cur)\n",
        "      hist_grad.append(grad_cur)\n",
        "      hist_alpha.append(alpha)\n",
        "\n",
        "      print(t, \"-th iteration \",  \"Objecive Value:\", hist_fx[-1],  \"   Error:\", la.norm(hist_grad[-1]) )\n",
        "\n",
        "    return w_cur, fx_cur, la.norm(hist_grad), hist_fx\n",
        "  "
      ],
      "metadata": {
        "id": "ff-v_MOZqDGX"
      },
      "execution_count": 28,
      "outputs": []
    },
    {
      "cell_type": "code",
      "source": [
        "beta_t4, f_val4, err4, hist4 = LineSearch(X_heart, y_heart_ravel, Objective_Eval, my_gradient, 1, beta0, max_iter=50)"
      ],
      "metadata": {
        "colab": {
          "base_uri": "https://localhost:8080/"
        },
        "id": "I4Zq5GOpy98x",
        "outputId": "1c2d65fa-2eb2-4744-e800-bfab1f74a228"
      },
      "execution_count": 29,
      "outputs": [
        {
          "output_type": "stream",
          "name": "stdout",
          "text": [
            "1 -th iteration  Objecive Value: 0.6359699519876917    Error: 0.22922478918387232\n",
            "2 -th iteration  Objecive Value: 0.6235439625092646    Error: 0.127890707814721\n",
            "3 -th iteration  Objecive Value: 0.6204893840576705    Error: 0.08025697841267677\n",
            "4 -th iteration  Objecive Value: 0.6193079842865906    Error: 0.05140750562376445\n",
            "5 -th iteration  Objecive Value: 0.6188510038118518    Error: 0.03354180323204009\n",
            "6 -th iteration  Objecive Value: 0.6186541213157363    Error: 0.021867386533671943\n",
            "7 -th iteration  Objecive Value: 0.6185717085106222    Error: 0.01430923428745638\n",
            "8 -th iteration  Objecive Value: 0.6185361637128011    Error: 0.009351104454881302\n",
            "9 -th iteration  Objecive Value: 0.6185210659576218    Error: 0.006118078784208154\n",
            "10 -th iteration  Objecive Value: 0.6185145820513782    Error: 0.004000223657286231\n",
            "11 -th iteration  Objecive Value: 0.6185118162714155    Error: 0.0026166845743845315\n",
            "12 -th iteration  Objecive Value: 0.61851063114363    Error: 0.001711173610795569\n",
            "13 -th iteration  Objecive Value: 0.6185101247986753    Error: 0.0011192303713601296\n",
            "14 -th iteration  Objecive Value: 0.6185099080481666    Error: 0.0007319667885371281\n"
          ]
        }
      ]
    },
    {
      "cell_type": "markdown",
      "source": [
        "The Plot:"
      ],
      "metadata": {
        "id": "mjG8nJHIqIAT"
      }
    },
    {
      "cell_type": "code",
      "source": [
        "plot_iter(hist4, smallest, \"chosen by back track line search\")"
      ],
      "metadata": {
        "colab": {
          "base_uri": "https://localhost:8080/",
          "height": 330
        },
        "id": "ChtyOntvsR0M",
        "outputId": "fd7ac066-1bd2-4160-ed57-e814a2915c2c"
      },
      "execution_count": 40,
      "outputs": [
        {
          "output_type": "stream",
          "name": "stderr",
          "text": [
            "/usr/local/lib/python3.7/dist-packages/ipykernel_launcher.py:2: RuntimeWarning: invalid value encountered in log\n",
            "  \n"
          ]
        },
        {
          "output_type": "display_data",
          "data": {
            "text/plain": [
              "<Figure size 432x288 with 1 Axes>"
            ],
            "image/png": "[encoded data removed]"
          },
          "metadata": {
            "needs_background": "light"
          }
        }
      ]
    },
    {
      "cell_type": "markdown",
      "source": [
        "It is easy to see that using backtrack linesearch, the convergence occurs within around 15 iterations. It took approximately 30 iterations to reach convergence in our earlier example with eta = .15\n",
        "\n",
        "Note, I arbitrarily chose eta (interchangeable with alpha) = 1 to begin with. I could have chosen to start at another value with similar results."
      ],
      "metadata": {
        "id": "8sQyXnf42Uzd"
      }
    },
    {
      "cell_type": "markdown",
      "source": [
        "### (e) (20 points) Test your implementation (gradient descent with backtracking line search) on a larger dataset 'epsilonsubset'. Plot the same iteration vs error plot."
      ],
      "metadata": {
        "id": "VbHsQrUyqNCR"
      }
    },
    {
      "cell_type": "code",
      "source": [
        "## Implementation of GD with line search\n",
        "## You can insert more code chunks and text cells between (d) and (e) if you want to.\n",
        "## Your code:\n",
        "\n",
        "from google.colab import files\n",
        "uploaded = files.upload()"
      ],
      "metadata": {
        "id": "Uy7Tb8W8qUMr",
        "colab": {
          "resources": {
            "http://localhost:8080/nbextensions/google.colab/files.js": {
              "data": "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",
              "ok": true,
              "headers": [
                [
                  "content-type",
                  "application/javascript"
                ]
              ],
              "status": 200,
              "status_text": ""
            }
          },
          "base_uri": "https://localhost:8080/",
          "height": 107
        },
        "outputId": "a9cc2439-2137-4f1e-f04c-645c1615d67f"
      },
      "execution_count": 31,
      "outputs": [
        {
          "output_type": "display_data",
          "data": {
            "text/plain": [
              "<IPython.core.display.HTML object>"
            ],
            "text/html": [
              "\n",
              "     <input type=\"file\" id=\"files-326fb28b-2c44-4bbf-8f04-a287636aabc2\" name=\"files[]\" multiple disabled\n",
              "        style=\"border:none\" />\n",
              "     <output id=\"result-326fb28b-2c44-4bbf-8f04-a287636aabc2\">\n",
              "      Upload widget is only available when the cell has been executed in the\n",
              "      current browser session. Please rerun this cell to enable.\n",
              "      </output>\n",
              "      <script src=\"/nbextensions/google.colab/files.js\"></script> "
            ]
          },
          "metadata": {}
        },
        {
          "output_type": "stream",
          "name": "stdout",
          "text": [
            "Saving x_epsilonsubset to x_epsilonsubset (1)\n",
            "Saving y_epsilonsubset to y_epsilonsubset (1)\n"
          ]
        }
      ]
    },
    {
      "cell_type": "code",
      "source": [
        "X_heart_eps = pd.read_csv(io.BytesIO(uploaded['x_epsilonsubset']), sep = ' ', header = None)\n",
        "y_heart_eps = pd.read_csv(io.BytesIO(uploaded['y_epsilonsubset']), header = None)\n",
        "X_heart_eps = X_heart_eps.to_numpy()\n",
        "y_heart_eps = y_heart_eps.to_numpy()\n",
        "y_heart_ravel_eps = y_heart_eps.ravel()"
      ],
      "metadata": {
        "id": "ISt2aGJ4P0iu"
      },
      "execution_count": 32,
      "outputs": []
    },
    {
      "cell_type": "code",
      "source": [
        "print(X_heart_eps.shape)\n",
        "print(y_heart_ravel_eps.shape)"
      ],
      "metadata": {
        "colab": {
          "base_uri": "https://localhost:8080/"
        },
        "id": "L9tyFCWeQTti",
        "outputId": "9540975c-5a78-4945-8f6e-19a0d5ca12fc"
      },
      "execution_count": 33,
      "outputs": [
        {
          "output_type": "stream",
          "name": "stdout",
          "text": [
            "(20000, 2000)\n",
            "(20000,)\n"
          ]
        }
      ]
    },
    {
      "cell_type": "code",
      "source": [
        "beta_t5, f_val5, err5, hist5 = LineSearch(X_heart_eps, y_heart_ravel_eps, Objective_Eval, my_gradient, 0.1, np.zeros(X_heart_eps.shape[1]), max_iter=50)"
      ],
      "metadata": {
        "colab": {
          "base_uri": "https://localhost:8080/"
        },
        "id": "uB2ZRREKQnXX",
        "outputId": "ad43f4e7-d3e0-42e9-d0c8-24786db3e413"
      },
      "execution_count": 36,
      "outputs": [
        {
          "output_type": "stream",
          "name": "stdout",
          "text": [
            "1 -th iteration  Objecive Value: 0.693126321606565    Error: 0.013333692406219224\n",
            "2 -th iteration  Objecive Value: 0.6931094336424712    Error: 0.011997578531344215\n",
            "3 -th iteration  Objecive Value: 0.6930957606330946    Error: 0.010795375961624554\n",
            "4 -th iteration  Objecive Value: 0.6930846904980182    Error: 0.00971366060115088\n",
            "5 -th iteration  Objecive Value: 0.6930757276984275    Error: 0.008740354407544825\n",
            "6 -th iteration  Objecive Value: 0.6930684710451649    Error: 0.007864590381628905\n",
            "7 -th iteration  Objecive Value: 0.69306259573303    Error: 0.007076591103366904\n",
            "8 -th iteration  Objecive Value: 0.6930578387963906    Error: 0.006367559454370636\n",
            "9 -th iteration  Objecive Value: 0.6930539873344904    Error: 0.005729580303811664\n",
            "10 -th iteration  Objecive Value: 0.6930508689789612    Error: 0.0051555320574001905\n",
            "11 -th iteration  Objecive Value: 0.6930483441765242    Error: 0.0046390070795771145\n",
            "12 -th iteration  Objecive Value: 0.6930462999411889    Error: 0.004174240098450029\n",
            "13 -th iteration  Objecive Value: 0.6930446447961102    Error: 0.0037560437924048307\n",
            "14 -th iteration  Objecive Value: 0.6930433046785491    Error: 0.0033797508377456926\n",
            "15 -th iteration  Objecive Value: 0.6930422196245456    Error: 0.003041161769059423\n",
            "16 -th iteration  Objecive Value: 0.6930413410848213    Error: 0.0027364980690779395\n",
            "17 -th iteration  Objecive Value: 0.6930406297517213    Error: 0.0024623599633544916\n",
            "18 -th iteration  Objecive Value: 0.6930400537998833    Error: 0.002215688447732312\n",
            "19 -th iteration  Objecive Value: 0.6930395874618611    Error: 0.0019937311239592026\n",
            "20 -th iteration  Objecive Value: 0.6930392098749215    Error: 0.001794011461419412\n",
            "21 -th iteration  Objecive Value: 0.6930389041473869    Error: 0.0016143011412930188\n",
            "22 -th iteration  Objecive Value: 0.6930386566027228    Error: 0.001452595173942686\n",
            "23 -th iteration  Objecive Value: 0.6930384561675274    Error: 0.0013070895113547697\n",
            "24 -th iteration  Objecive Value: 0.6930382938760283    Error: 0.0011761609043741345\n",
            "25 -th iteration  Objecive Value: 0.6930381624689054    Error: 0.0010583487795824968\n",
            "26 -th iteration  Objecive Value: 0.6930380560684798    Error: 0.0009523389332600187\n"
          ]
        }
      ]
    },
    {
      "cell_type": "markdown",
      "source": [
        "The Plot:"
      ],
      "metadata": {
        "id": "9X_eNkjVqUtJ"
      }
    },
    {
      "cell_type": "code",
      "source": [
        "# Note: I am using a different f(x*) value (the minimum reached at this larger data set) which is 0.69304.\n",
        "plot_iter(hist5, min(hist5), \"chosen by backtrack line search\")"
      ],
      "metadata": {
        "colab": {
          "base_uri": "https://localhost:8080/",
          "height": 330
        },
        "id": "76zb4lRjrmj9",
        "outputId": "8b2e71a7-df4f-4429-c001-22c8cd1060d6"
      },
      "execution_count": 41,
      "outputs": [
        {
          "output_type": "stream",
          "name": "stderr",
          "text": [
            "/usr/local/lib/python3.7/dist-packages/ipykernel_launcher.py:2: RuntimeWarning: divide by zero encountered in log\n",
            "  \n"
          ]
        },
        {
          "output_type": "display_data",
          "data": {
            "text/plain": [
              "<Figure size 432x288 with 1 Axes>"
            ],
            "image/png": "[encoded data removed]"
          },
          "metadata": {
            "needs_background": "light"
          }
        }
      ]
    }
  ]
}