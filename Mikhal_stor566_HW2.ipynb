{
  "cells": [
    {
      "cell_type": "markdown",
      "metadata": {
        "id": "0D6giqCEScfp"
      },
      "source": [
        "# STOR 566, Homework 2\n",
        "### Instructor: Yao Li\n",
        "### Keywords: SVM, MLP, CNN\n",
        "### Due date: Sep 18, 11:55pm\n",
        "### **Submission Instruction**\n",
        "\n",
        "- Please download this script and use it to answer the questions in the homework. \n",
        "- For submission, please include your code, code output and answers in the script and submit the ipynb file on sakai.\n",
        "- Please don't modify existing cells. But you can add cells between the exercise statements.\n",
        "- To make markdown, please switch the cell type to markdown (from code) - you can hit 'm' when you are in command mode - and use the markdown language. For a brief tutorial see: https://daringfireball.net/projects/markdown/syntax\n",
        "\n",
        "### **References:**\n",
        "\n",
        "- You can follow the setup instructions at [here](https://pytorch.org/get-started/locally/).\n",
        "- A useful tutorial on learning pytorch by examples at [here](https://pytorch.org/tutorials/beginner/pytorch_with_examples.html).\n",
        "- More illustrations of different optimizers could be found [here](https://ruder.io/optimizing-gradient-descent/).\n",
        "- Check Pytorch optimization methods at [here](https://pytorch.org/docs/stable/optim.html)\n",
        "- Check Pytorch data augmentation options at [here](https://pytorch.org/vision/main/transforms.html).\n",
        "\n",
        "\n",
        "### **Evaluation Metrics of Classifiers:**\n",
        "\n",
        "- Average loss of an epoch: \n",
        "    \\begin{align}\n",
        "\t  \\frac{1}{B}\\sum_{b=1}^B\\sum_{d=1}^{D_b}\\frac{loss(y_{bd}, f(x_{bd}))}{D_b}\n",
        "\t  \\end{align}\n",
        "    for each training epoch\n",
        "    \n",
        "    - $B$: the total number of batches\n",
        "    - $D_b$: the number of observations in $b$-th batch\n",
        "    - $f$: the model (Logistic regression or Linear SVM or MLP or CNN)\n",
        "    - loss: logistic loss or the loss of linear SVM or cross-entropy\n",
        "    - $(x_{bd}, y_{bd})$: the $d$-th pair of input data and label in $b$-th batch\n",
        "    - An epoch is defined as one iteration over all observations in the training dataset\n",
        "\n",
        "- Testing accuracy: \n",
        "\t\\begin{align}\n",
        "\t\\frac{1}{N}\\sum_{i=1}^N {\\bf 1}(\\hat{y}_i=y_i)\n",
        "\t\\end{align}\t\n",
        "    - $N$: the total number of samples in the testing set\n",
        "    - $y_i$: true label of sample $i$\n",
        "    - $\\hat{y}_i$: predicted label by the model"
      ]
    },
    {
      "cell_type": "markdown",
      "metadata": {
        "id": "GGLwKI0AjmvW"
      },
      "source": [
        "# Mikhal Ben-Joseph\n",
        "I abided by the Honor Code while I completed this assignment. I worked together with Yesh Munagala and I utilized several internet resources which I listed along with Stack Overflow and the Pytorch documentation."
      ]
    },
    {
      "cell_type": "markdown",
      "metadata": {
        "id": "rB6khqRukUzQ"
      },
      "source": [
        "## Problem 1 (40 points)\n",
        "\n",
        "In this problem you will practice implementing Linear SVM and Logistic Regression to classify **handwritten digit 0 and 1**.\n",
        "\n",
        "**Data.** You will use MNIST digit classification dataset. Pytorch/torchvision has provide a useful dataloader to automatically download and load the data into batches. In this homework, you need two class, digit 0 and digit 1, for binary classification. Code of the data loader has been provided in the template. Please don't modify the data loading part."
      ]
    },
    {
      "cell_type": "code",
      "execution_count": 1,
      "metadata": {
        "colab": {
          "base_uri": "https://localhost:8080/"
        },
        "id": "sKxBocWvdBtA",
        "outputId": "93fbcf8e-fd45-4ebc-f757-9c93e2addc75"
      },
      "outputs": [
        {
          "name": "stdout",
          "output_type": "stream",
          "text": [
            "Mounted at /content/drive\n"
          ]
        }
      ],
      "source": [
        "## The following code can change the working directory to your google drive\n",
        "## So you don't need to download the data every time\n",
        "\n",
        "import os\n",
        "from google.colab import drive \n",
        "drive.mount('/content/drive')\n",
        "os.chdir('/content/drive/MyDrive/')\n"
      ]
    },
    {
      "cell_type": "code",
      "execution_count": null,
      "metadata": {
        "id": "EaUdejVu7hhp"
      },
      "outputs": [],
      "source": [
        "# from google.colab import drive\n",
        "# drive.mount('/content/drive')"
      ]
    },
    {
      "cell_type": "code",
      "execution_count": 2,
      "metadata": {
        "id": "UFlhPdZWXDSs"
      },
      "outputs": [],
      "source": [
        "## Data loading code chunk, please don't modify it. \n",
        "## However, you can adjust the batch size if you want to.\n",
        "batch_size = 64\n",
        "data_dir = './data'\n",
        "\n",
        "import torch\n",
        "import torch.nn as nn\n",
        "import torch.optim as optim\n",
        "import torch.nn.functional as F\n",
        "import numpy as np\n",
        "import torch.utils.data as td\n",
        "import random, time\n",
        "import matplotlib.pyplot as plt\n",
        "from torchvision import datasets, transforms\n",
        "from torch.utils.data.sampler import SubsetRandomSampler\n",
        "\n",
        "\n",
        "## USE THIS SNIPPET TO GET BINARY TRAIN/TEST DATA\n",
        "\n",
        "train_data = datasets.MNIST(data_dir, train=True, download=True,\n",
        "                   transform=transforms.Compose([\n",
        "                       transforms.ToTensor(),\n",
        "                       transforms.Normalize((0.1307,), (0.3081,))\n",
        "                   ]))\n",
        "# Once you have downloaded the data by setting download=True, you can\n",
        "# change download=True to download=False\n",
        "test_data = datasets.MNIST(data_dir, train=False, download=False,\n",
        "                   transform=transforms.Compose([\n",
        "                       transforms.ToTensor(),\n",
        "                       transforms.Normalize((0.1307,), (0.3081,))\n",
        "                   ]))\n",
        "\n",
        "subset_indices = ((train_data.targets == 0) + (train_data.targets == 1)).nonzero()\n",
        "train_loader = torch.utils.data.DataLoader(train_data,batch_size=batch_size, \n",
        "  shuffle=False,sampler=SubsetRandomSampler(subset_indices.view(-1)))\n",
        "\n",
        "\n",
        "subset_indices = ((test_data.targets == 0) + (test_data.targets == 1)).nonzero()\n",
        "test_loader = torch.utils.data.DataLoader(test_data,batch_size=batch_size, \n",
        "  shuffle=False,sampler=SubsetRandomSampler(subset_indices.view(-1)))"
      ]
    },
    {
      "cell_type": "markdown",
      "metadata": {
        "id": "L_VY0XmUkteW"
      },
      "source": [
        "### **Problem Description.**\n",
        "### 1. (20 points) Implement **Logistic Regression** with Pytorch to do handwritten digit 0 vs. 1 classification. Pick an optimizer yourself. "
      ]
    },
    {
      "cell_type": "code",
      "execution_count": 20,
      "metadata": {
        "id": "8_fM5kfXU6hq"
      },
      "outputs": [],
      "source": [
        "## Implementation of Logistic Regression\n",
        "## You can insert more code chunks and text cells if you want to.\n",
        "## Your code:\n",
        "\n",
        "## A template is provided but you don't have to follow it:\n",
        "\n",
        "num_epochs = 10\n",
        "\n",
        "class LogisticLoss(torch.nn.Module):\n",
        "\n",
        " def __init__(self):\n",
        "   super(LogisticLoss, self).__init__()\n",
        "\n",
        " def forward(self, y_predict, labels):\n",
        "   # Minji told me in OH that I can write the loss function myself instead of using the sigmoid\n",
        "   response = (torch.log(1+torch.exp(-labels * y_predict.t())))\n",
        "   response = torch.mean(response)\n",
        "   return response\n",
        "\n",
        "# Training the Model\n",
        "\n",
        "def hype_tune_logistic(num_epochs, lr, batch_size):\n",
        "  print(\"\")\n",
        "  print(\" >>>> Number of Epochs: \", num_epochs, \" Learning Rate: \", lr, \" Batch Size: \", batch_size, \"<<<<\")\n",
        "  print(\"\")\n",
        "\n",
        "  ### Intantiating the model\n",
        "  model = nn.Linear(28*28, 1)\n",
        "  criterion = LogisticLoss()\n",
        "  iter = 0\n",
        "  losses = list()\n",
        "  optimizer = optim.Adagrad(model.parameters(),lr=lr)\n",
        "\n",
        "  for epoch in range(num_epochs):\n",
        "\n",
        "      epoch_losses = list()\n",
        "\n",
        "      # for i, (images, labels) in enumerate(train_loader):\n",
        "      for (images, labels) in (train_loader):\n",
        "\n",
        "          # Convert the 28*28 image matrix into a 784-dim vector\n",
        "          images = images.view(-1, 28*28) \n",
        "          # Convert labels from 0,1 to -1,1\n",
        "          labels = 2*(labels.float()-0.5)\n",
        "          \n",
        "          ## TODO \n",
        "\n",
        "          # 1. Compute Loss. Check torch functions for the corresponding loss for Logistic and SVM\n",
        "          optimizer.zero_grad()\n",
        "          y_predict = model(images)\n",
        "          loss = criterion(y_predict, labels)\n",
        "          \n",
        "          # 2. Do optimization. Chec torch.optim to see how to do optimization with pytorch\n",
        "          loss.backward()\n",
        "          optimizer.step()\n",
        "          \n",
        "          iter += 1\n",
        "\n",
        "          # 3. Save batch loss\n",
        "          epoch_losses.append(loss.item()) \n",
        "\n",
        "      ## Save average epoch loss\n",
        "      losses.append(np.average(epoch_losses))\n",
        "      print('Epoch: {} :: Iteration: {} :: Loss: {}  '.format(epoch, iter, losses[-1], ))\n",
        "\n",
        "  return losses, model\n",
        "\n"
      ]
    },
    {
      "cell_type": "code",
      "execution_count": 21,
      "metadata": {
        "colab": {
          "base_uri": "https://localhost:8080/"
        },
        "id": "Mkkph72gNqHS",
        "outputId": "540b6a8b-59f7-400f-b32c-31fb65d2b96a"
      },
      "outputs": [
        {
          "name": "stdout",
          "output_type": "stream",
          "text": [
            "\n",
            " >>>> Number of Epochs:  10  Learning Rate:  0.01  Batch Size:  64 <<<<\n",
            "\n",
            "Epoch: 0 :: Iteration: 198 :: Loss: 0.023091642598790877  \n",
            "Epoch: 1 :: Iteration: 396 :: Loss: 0.0074939156142816024  \n",
            "Epoch: 2 :: Iteration: 594 :: Loss: 0.005719621877439998  \n",
            "Epoch: 3 :: Iteration: 792 :: Loss: 0.004852813125571537  \n",
            "Epoch: 4 :: Iteration: 990 :: Loss: 0.004293946226214463  \n",
            "Epoch: 5 :: Iteration: 1188 :: Loss: 0.0038194294130803564  \n",
            "Epoch: 6 :: Iteration: 1386 :: Loss: 0.003588828573801856  \n",
            "Epoch: 7 :: Iteration: 1584 :: Loss: 0.0033589625821361844  \n",
            "Epoch: 8 :: Iteration: 1782 :: Loss: 0.0031562354955104923  \n",
            "Epoch: 9 :: Iteration: 1980 :: Loss: 0.0030132865016860183  \n",
            "\n",
            " >>>> Number of Epochs:  15  Learning Rate:  0.01  Batch Size:  64 <<<<\n",
            "\n",
            "Epoch: 0 :: Iteration: 198 :: Loss: 0.026095893667926164  \n",
            "Epoch: 1 :: Iteration: 396 :: Loss: 0.008061100201413148  \n",
            "Epoch: 2 :: Iteration: 594 :: Loss: 0.006016597866123034  \n",
            "Epoch: 3 :: Iteration: 792 :: Loss: 0.004876009569588033  \n",
            "Epoch: 4 :: Iteration: 990 :: Loss: 0.004268646210983555  \n",
            "Epoch: 5 :: Iteration: 1188 :: Loss: 0.00398294900110664  \n",
            "Epoch: 6 :: Iteration: 1386 :: Loss: 0.003609685191262579  \n",
            "Epoch: 7 :: Iteration: 1584 :: Loss: 0.0033418991099666766  \n",
            "Epoch: 8 :: Iteration: 1782 :: Loss: 0.00317495229977096  \n",
            "Epoch: 9 :: Iteration: 1980 :: Loss: 0.003011011302684589  \n",
            "Epoch: 10 :: Iteration: 2178 :: Loss: 0.002867503657600739  \n",
            "Epoch: 11 :: Iteration: 2376 :: Loss: 0.002759630660508228  \n",
            "Epoch: 12 :: Iteration: 2574 :: Loss: 0.0026491910954578686  \n",
            "Epoch: 13 :: Iteration: 2772 :: Loss: 0.0025551167629527475  \n",
            "Epoch: 14 :: Iteration: 2970 :: Loss: 0.0024544326847212184  \n",
            "\n",
            " >>>> Number of Epochs:  10  Learning Rate:  0.1  Batch Size:  64 <<<<\n",
            "\n",
            "Epoch: 0 :: Iteration: 198 :: Loss: 0.03072657256615484  \n",
            "Epoch: 1 :: Iteration: 396 :: Loss: 0.005808264970161542  \n",
            "Epoch: 2 :: Iteration: 594 :: Loss: 0.003497235110411793  \n",
            "Epoch: 3 :: Iteration: 792 :: Loss: 0.0024414266817807386  \n",
            "Epoch: 4 :: Iteration: 990 :: Loss: 0.002022762229673374  \n",
            "Epoch: 5 :: Iteration: 1188 :: Loss: 0.001715142630266808  \n",
            "Epoch: 6 :: Iteration: 1386 :: Loss: 0.0013166229435972903  \n",
            "Epoch: 7 :: Iteration: 1584 :: Loss: 0.0012000485863045802  \n",
            "Epoch: 8 :: Iteration: 1782 :: Loss: 0.0009625612925298324  \n",
            "Epoch: 9 :: Iteration: 1980 :: Loss: 0.0007738221267903446  \n",
            "\n",
            " >>>> Number of Epochs:  15  Learning Rate:  0.1  Batch Size:  64 <<<<\n",
            "\n",
            "Epoch: 0 :: Iteration: 198 :: Loss: 0.016680246918098683  \n",
            "Epoch: 1 :: Iteration: 396 :: Loss: 0.0035796624455994358  \n",
            "Epoch: 2 :: Iteration: 594 :: Loss: 0.0023940328477746646  \n",
            "Epoch: 3 :: Iteration: 792 :: Loss: 0.0017587671333614589  \n",
            "Epoch: 4 :: Iteration: 990 :: Loss: 0.0009692560754992676  \n",
            "Epoch: 5 :: Iteration: 1188 :: Loss: 0.0007894544850825272  \n",
            "Epoch: 6 :: Iteration: 1386 :: Loss: 0.0009198808166422967  \n",
            "Epoch: 7 :: Iteration: 1584 :: Loss: 0.0007325678894858356  \n",
            "Epoch: 8 :: Iteration: 1782 :: Loss: 0.000565070167039441  \n",
            "Epoch: 9 :: Iteration: 1980 :: Loss: 0.00043740654908994907  \n",
            "Epoch: 10 :: Iteration: 2178 :: Loss: 0.00047780453267488485  \n",
            "Epoch: 11 :: Iteration: 2376 :: Loss: 0.00032009438711377174  \n",
            "Epoch: 12 :: Iteration: 2574 :: Loss: 0.0003246146603710499  \n",
            "Epoch: 13 :: Iteration: 2772 :: Loss: 0.0003502919559847132  \n",
            "Epoch: 14 :: Iteration: 2970 :: Loss: 0.000329216213004321  \n"
          ]
        }
      ],
      "source": [
        "### I chose SGD as the first optimizer to try because it is the most basic of the ones we learned\n",
        "### It didn't work too well so I'm trying Adagrad instead\n",
        "\n",
        "loss1, model1 = hype_tune_logistic(10, 0.01, 64)\n",
        "loss2, model2 = hype_tune_logistic(15, 0.01, 64)\n",
        "loss3, model3 = hype_tune_logistic(10, 0.1, 64)\n",
        "loss4, model4 = hype_tune_logistic(15, 0.1, 64)"
      ]
    },
    {
      "cell_type": "markdown",
      "metadata": {
        "id": "Y7FujWs1Vk1G"
      },
      "source": [
        "Note: When I first tried to implement Logistic Regression, I used the sigmoid function in an activation layer as detailed in the code chunk below. After I spoke with Minji in Office Hours, she suggested I tried writing my own loss function. I received different answers when using the method below, so I have decided to stick with the version above where I wrote my own loss function. The commented code below is **not my answer**, but I wanted to keep my code here so that in the future I can come back and find what went wrong between the two. "
      ]
    },
    {
      "cell_type": "code",
      "execution_count": 17,
      "metadata": {
        "id": "jsD4haidWeDq"
      },
      "outputs": [],
      "source": [
        "# ## Implementation of Logistic Regression\n",
        "# ## You can insert more code chunks and text cells if you want to.\n",
        "# ## Your code:\n",
        "\n",
        "# ## A template is provided but you don't have to follow it:\n",
        "\n",
        "# # The number of epochs is at least 10, you can increase it to achieve better performance\n",
        "# num_epochs = 10\n",
        "\n",
        "# # Here is my model definition:\n",
        "# class Logistic_Regression(torch.nn.Module):\n",
        "\n",
        "#  def __init__(self,num_input, num_output):\n",
        "#    super(Logistic_Regression,self).__init__()\n",
        "#    ### I am adding in one linear layer that will get fed to the activation\n",
        "#    self.layer1=torch.nn.Linear(num_input, num_output)\n",
        "\n",
        "#  def forward(self,x):\n",
        "#    y_predict = torch.sigmoid(self.layer1(x))\n",
        "#    return y_predict\n",
        "\n",
        "\n",
        "# # Training the Model\n",
        "\n",
        "# def hype_tune_logistic(num_epochs, lr, batch_size):\n",
        "#   print(\"\")\n",
        "#   print(\" >>>> Number of Epochs: \", num_epochs, \" Learning Rate: \", lr, \" Batch Size: \", batch_size, \"<<<<\")\n",
        "#   print(\"\")\n",
        "\n",
        "#   ### Intantiating the model\n",
        "#   model = Logistic_Regression(28*28, 1)\n",
        "\n",
        "#   ### I am going to use the Binary Cross Entropy Loss for Logistic\n",
        "#   criterion = nn.BCELoss()\n",
        "\n",
        "#   iter = 0\n",
        "#   losses = list()\n",
        "#   optimizer = optim.Adagrad(model.parameters(),lr=lr)\n",
        "\n",
        "#   for epoch in range(num_epochs):\n",
        "\n",
        "#       epoch_losses = list()\n",
        "\n",
        "#       # for i, (images, labels) in enumerate(train_loader):\n",
        "#       for (images, labels) in (train_loader):\n",
        "\n",
        "#           # Convert the 28*28 image matrix into a 784-dim vector\n",
        "#           images = images.view(-1, 28*28) \n",
        "#           # Convert labels from 0,1 to -1,1 is not necessary because we are using BCE\n",
        "#           #labels = 2*(labels.float()-0.5)\n",
        "#           labels = labels.float()\n",
        "          \n",
        "#           ## TODO \n",
        "\n",
        "#           # 1. Compute Loss. Check torch functions for the corresponding loss for Logistic and SVM\n",
        "        \n",
        "#           y_predict = model(images)\n",
        "#           labels = labels.unsqueeze(1)\n",
        "#           loss = criterion(y_predict, labels)\n",
        "          \n",
        "#           # 2. Do optimization. Chec torch.optim to see how to do optimization with pytorch\n",
        "#           optimizer.zero_grad()\n",
        "#           loss.backward()\n",
        "#           optimizer.step()\n",
        "          \n",
        "#           iter += 1\n",
        "\n",
        "#           # 3. Save batch loss\n",
        "#           epoch_losses.append(loss.item()) \n",
        "\n",
        "#       ## Save average epoch loss\n",
        "#         # if (iter) % 64 == 0:\n",
        "#       losses.append(np.average(epoch_losses))\n",
        "#       print('Epoch: {} :: Iteration: {} :: Loss: {}  '.format(epoch, iter, losses[-1], ))\n",
        "\n",
        "#   return losses, model\n",
        "\n"
      ]
    },
    {
      "cell_type": "markdown",
      "metadata": {
        "id": "YkUY4Y8mPGCf"
      },
      "source": [
        "Please note that I used the following website resources while constructing my code for logistic regression:\n",
        "\n",
        " https://www.analyticsvidhya.com/blog/2021/07/perform-logistic-regression-with-pytorch-seamlessly/\n",
        "\n",
        "https://towardsdatascience.com/logistic-regression-with-pytorch-3c8bbea594be\n",
        "\n",
        "https://neptune.ai/blog/pytorch-loss-functions\n",
        "\n",
        "https://www.deeplearningwizard.com/deep_learning/practical_pytorch/pytorch_logistic_regression/\n"
      ]
    },
    {
      "cell_type": "markdown",
      "metadata": {
        "id": "4UZxum1LZSD8"
      },
      "source": [
        "### (a) (5 points) Report the hyper-parameters (number of epochs, learning rate, momentum etc)."
      ]
    },
    {
      "cell_type": "code",
      "execution_count": 23,
      "metadata": {
        "colab": {
          "base_uri": "https://localhost:8080/"
        },
        "id": "emZ2QD136RvQ",
        "outputId": "cc96051b-d3bb-4f01-dca8-432577775d50"
      },
      "outputs": [
        {
          "name": "stdout",
          "output_type": "stream",
          "text": [
            "0.000329216213004321\n",
            "3\n"
          ]
        }
      ],
      "source": [
        "list_of_losses = [loss1[-1], loss2[-1], loss3[-1], loss4[-1]]\n",
        "min_loss = min(list_of_losses)\n",
        "print(min_loss)\n",
        "min_params = list_of_losses.index(min_loss)\n",
        "print(min_params)"
      ]
    },
    {
      "cell_type": "markdown",
      "metadata": {
        "id": "-kEgec89ZT5W"
      },
      "source": [
        "Answer: I arrived at the smallest final loss when I used 15 epochs, a learning rate of 0.1, and a batch size of 64 (AKA mod4). Since I was using Adagrad as my optimizer, there was no momentum."
      ]
    },
    {
      "cell_type": "markdown",
      "metadata": {
        "id": "6Tigk4RBkyFb"
      },
      "source": [
        "### (b) (10 points) Report the **Average loss of an epoch** for every epoch by generating Average Loss vs. Epoch plot. Please report at least **10** epochs."
      ]
    },
    {
      "cell_type": "code",
      "execution_count": 26,
      "metadata": {
        "colab": {
          "base_uri": "https://localhost:8080/",
          "height": 295
        },
        "id": "S-IUsPlvYEGJ",
        "outputId": "90b561dc-305e-4448-bd15-98a65f9f20ef"
      },
      "outputs": [
        {
          "data": {
            "image/png": "[encoded data removed]",
            "text/plain": [
              "<Figure size 432x288 with 1 Axes>"
            ]
          },
          "metadata": {
            "needs_background": "light"
          },
          "output_type": "display_data"
        }
      ],
      "source": [
        "## Plot:\n",
        "plt.plot(range(0, len(loss4)), loss4)\n",
        "plt.title(\"Average Loss vs. Epoch\")\n",
        "plt.ylabel(\"Average Loss\")\n",
        "plt.xlabel(\"Epoch\")\n",
        "plt.show()"
      ]
    },
    {
      "cell_type": "markdown",
      "metadata": {
        "id": "I0rrCHF0k32r"
      },
      "source": [
        "### (c) (5 points) Report the final testing accuracy of trained model."
      ]
    },
    {
      "cell_type": "code",
      "execution_count": 27,
      "metadata": {
        "id": "OQpqDtOHWxpp"
      },
      "outputs": [],
      "source": [
        "## Code:\n",
        "\n",
        "\n",
        "def Test_Accuracy(model, test_data_loader):\n",
        "\n",
        "  iters = 0\n",
        "  correct = 0\n",
        "\n",
        "  for images, labels in test_data_loader:\n",
        "\n",
        "    images = images.view(-1, 28*28)\n",
        "    labels = labels.float()\n",
        "    y_predict = model(images)\n",
        "    # Converting back to the 0, 1 labels\n",
        "    y_predict_coded = y_predict.data.sign() / 2 + 0.5\n",
        "    iters += labels.size(0)\n",
        "    correct += (labels == y_predict_coded.view(-1).long()).sum().item()\n",
        "\n",
        "  accuracy = correct / iters\n",
        "  print(\"Accuracy is: \", accuracy)"
      ]
    },
    {
      "cell_type": "code",
      "execution_count": 28,
      "metadata": {
        "colab": {
          "base_uri": "https://localhost:8080/"
        },
        "id": "t_4vWbCsaMMt",
        "outputId": "6c284ca1-c3a0-479d-e167-a8af470beb69"
      },
      "outputs": [
        {
          "name": "stdout",
          "output_type": "stream",
          "text": [
            "Accuracy is:  0.9995271867612293\n"
          ]
        }
      ],
      "source": [
        "Test_Accuracy(model4, test_loader)"
      ]
    },
    {
      "cell_type": "markdown",
      "metadata": {
        "id": "Yzs9iWPxXTRJ"
      },
      "source": [
        "### 2. (20 points) Implement **Linear SVM** with Pytorch to do handwritten digit 0 vs. 1 classification. Pick an optimizer yourself. "
      ]
    },
    {
      "cell_type": "code",
      "execution_count": 30,
      "metadata": {
        "id": "L1J06Z-dXiEy"
      },
      "outputs": [],
      "source": [
        "## Implementation of Linear SVM\n",
        "## You can insert more code chunks and text cells if you want to.\n",
        "## Your code:\n",
        "\n",
        "# The number of epochs is at least 10, you can increase it to achieve better performance\n",
        "num_epochs = 10\n",
        "\n",
        "# Here is my special loss class:\n",
        "class SVM_hinge(torch.nn.Module):\n",
        "\n",
        " def __init__(self):\n",
        "   super(SVM_hinge,self).__init__()\n",
        "\n",
        " def forward(self, labels, y_predict):\n",
        "   # Instead of feeding through an activation function, we'll just take the sign of the output\n",
        "   y_predict = torch.mean(torch.clamp(1 - labels.t() * y_predict, min=0))\n",
        "   return y_predict\n",
        "\n",
        "\n",
        "# Training the Model\n",
        "\n",
        "def hype_tune_SVM(num_epochs, lr, batch_size, momentum):\n",
        "  print(\"\")\n",
        "  print(\" >>>> Number of Epochs: \", num_epochs, \" Learning Rate: \", lr, \" Batch Size: \", batch_size, \"<<<<\")\n",
        "  print(\"\")\n",
        "\n",
        "  ### Intantiating the model\n",
        "  model = torch.nn.Linear(28*28, 1)\n",
        "\n",
        "  ### I am going to use my hinge loss class\n",
        "  criterion = SVM_hinge()\n",
        "  iter = 0\n",
        "  losses = list()\n",
        "  optimizer = optim.SGD(model.parameters(),lr=lr, momentum = momentum)\n",
        "\n",
        "  for epoch in range(num_epochs):\n",
        "\n",
        "      epoch_losses = list()\n",
        "\n",
        "      for i, (images, labels) in enumerate(train_loader):\n",
        "\n",
        "          # Convert the 28*28 image matrix into a 784-dim vector\n",
        "          images = images.view(-1, 28*28) \n",
        "          # Convert labels from 0,1 to -1,1 is necessary with Hinge Loss\n",
        "          labels = 2*(labels.float()-0.5)\n",
        "          labels = labels.float()\n",
        "          \n",
        "          ## TODO \n",
        "\n",
        "          # 1. Compute Loss. Check torch functions for the corresponding loss for Logistic and SVM\n",
        "          optimizer.zero_grad()\n",
        "          y_predict = model(images)\n",
        "          # labels = labels.unsqueeze(1) \n",
        "          loss = criterion(y_predict, labels)\n",
        "\n",
        "          # 2. Do optimization. Chec torch.optim to see how to do optimization with pytorch\n",
        "          loss.backward()\n",
        "          optimizer.step()\n",
        "          \n",
        "          iter += 1\n",
        "\n",
        "          # 3. Save batch loss\n",
        "          epoch_losses.append(loss.item()) \n",
        "\n",
        "      ## Save average epoch loss\n",
        "      losses.append(np.average(epoch_losses))\n",
        "      print('Epoch: {} :: Iteration: {} :: Loss: {}  '.format(epoch, iter, losses[-1], ))\n",
        "\n",
        "  return losses, model\n"
      ]
    },
    {
      "cell_type": "code",
      "execution_count": 31,
      "metadata": {
        "colab": {
          "base_uri": "https://localhost:8080/"
        },
        "id": "iEzo4nBuwmmB",
        "outputId": "15eace08-5e6e-498f-aa87-20460f86f4de"
      },
      "outputs": [
        {
          "name": "stdout",
          "output_type": "stream",
          "text": [
            "\n",
            " >>>> Number of Epochs:  10  Learning Rate:  0.01  Batch Size:  64 <<<<\n",
            "\n",
            "Epoch: 0 :: Iteration: 198 :: Loss: 0.013286388742577548  \n",
            "Epoch: 1 :: Iteration: 396 :: Loss: 0.00382909941195388  \n",
            "Epoch: 2 :: Iteration: 594 :: Loss: 0.002763893370601264  \n",
            "Epoch: 3 :: Iteration: 792 :: Loss: 0.002113555586247733  \n",
            "Epoch: 4 :: Iteration: 990 :: Loss: 0.001776341979175505  \n",
            "Epoch: 5 :: Iteration: 1188 :: Loss: 0.0013254885185472291  \n",
            "Epoch: 6 :: Iteration: 1386 :: Loss: 0.0012982834995997072  \n",
            "Epoch: 7 :: Iteration: 1584 :: Loss: 0.0011069351863680463  \n",
            "Epoch: 8 :: Iteration: 1782 :: Loss: 0.0009674362255015759  \n",
            "Epoch: 9 :: Iteration: 1980 :: Loss: 0.0008733005714461659  \n",
            "\n",
            " >>>> Number of Epochs:  10  Learning Rate:  0.1  Batch Size:  64 <<<<\n",
            "\n",
            "Epoch: 0 :: Iteration: 198 :: Loss: 0.033394253361179974  \n",
            "Epoch: 1 :: Iteration: 396 :: Loss: 0.012167067596256131  \n",
            "Epoch: 2 :: Iteration: 594 :: Loss: 0.007010018862219471  \n",
            "Epoch: 3 :: Iteration: 792 :: Loss: 0.004341039453830683  \n",
            "Epoch: 4 :: Iteration: 990 :: Loss: 0.003381744229394679  \n",
            "Epoch: 5 :: Iteration: 1188 :: Loss: 0.002587705690677118  \n",
            "Epoch: 6 :: Iteration: 1386 :: Loss: 0.0013184220849940874  \n",
            "Epoch: 7 :: Iteration: 1584 :: Loss: 0.0006974054867345276  \n",
            "Epoch: 8 :: Iteration: 1782 :: Loss: 0.000696459004298003  \n",
            "Epoch: 9 :: Iteration: 1980 :: Loss: 0.00024868912919603215  \n",
            "\n",
            " >>>> Number of Epochs:  10  Learning Rate:  0.01  Batch Size:  64 <<<<\n",
            "\n",
            "Epoch: 0 :: Iteration: 198 :: Loss: 0.021460911931677  \n",
            "Epoch: 1 :: Iteration: 396 :: Loss: 0.006676371468024122  \n",
            "Epoch: 2 :: Iteration: 594 :: Loss: 0.0042777932060863635  \n",
            "Epoch: 3 :: Iteration: 792 :: Loss: 0.003236161239181805  \n",
            "Epoch: 4 :: Iteration: 990 :: Loss: 0.002517287746410478  \n",
            "Epoch: 5 :: Iteration: 1188 :: Loss: 0.0019033503944449353  \n",
            "Epoch: 6 :: Iteration: 1386 :: Loss: 0.0016244424629316787  \n",
            "Epoch: 7 :: Iteration: 1584 :: Loss: 0.0012145223509934214  \n",
            "Epoch: 8 :: Iteration: 1782 :: Loss: 0.001089037565345114  \n",
            "Epoch: 9 :: Iteration: 1980 :: Loss: 0.0010405025031003687  \n",
            "\n",
            " >>>> Number of Epochs:  10  Learning Rate:  0.1  Batch Size:  64 <<<<\n",
            "\n",
            "Epoch: 0 :: Iteration: 198 :: Loss: 0.0735536289890532  \n",
            "Epoch: 1 :: Iteration: 396 :: Loss: 0.02795943713775187  \n",
            "Epoch: 2 :: Iteration: 594 :: Loss: 0.015799122241636116  \n",
            "Epoch: 3 :: Iteration: 792 :: Loss: 0.011629917103834826  \n",
            "Epoch: 4 :: Iteration: 990 :: Loss: 0.007214791941070798  \n",
            "Epoch: 5 :: Iteration: 1188 :: Loss: 0.004445244228900081  \n",
            "Epoch: 6 :: Iteration: 1386 :: Loss: 0.003318277516900891  \n",
            "Epoch: 7 :: Iteration: 1584 :: Loss: 0.00047599548718543967  \n",
            "Epoch: 8 :: Iteration: 1782 :: Loss: 0.0008149805074237814  \n",
            "Epoch: 9 :: Iteration: 1980 :: Loss: 0.0002250429525068312  \n"
          ]
        }
      ],
      "source": [
        "loss1_SVM, model1_SVM = hype_tune_SVM(10, 0.01, 64, 0.75)\n",
        "loss2_SVM, model2_SVM = hype_tune_SVM(10, 0.1, 64, 0.75)\n",
        "loss3_SVM, model3_SVM = hype_tune_SVM(10, 0.01, 64, 0.9)\n",
        "loss4_SVM, model4_SVM = hype_tune_SVM(10, 0.1, 64, 0.9)\n"
      ]
    },
    {
      "cell_type": "markdown",
      "metadata": {
        "id": "gk4lTWisvDBb"
      },
      "source": [
        "I used the following resources in constructing this code: \n",
        "\n",
        "https://bytepawn.com/svm-with-pytorch.html\n",
        "\n",
        "https://torchmetrics.readthedocs.io/en/stable/classification/hinge_loss.html"
      ]
    },
    {
      "cell_type": "markdown",
      "metadata": {
        "id": "tWwSIMRRZtMX"
      },
      "source": [
        "### (a) (5 points) Report the hyper-parameters (number of epochs, learning rate, momentum etc)."
      ]
    },
    {
      "cell_type": "code",
      "execution_count": 32,
      "metadata": {
        "colab": {
          "base_uri": "https://localhost:8080/"
        },
        "id": "ICpUuHB_GKnx",
        "outputId": "336f73c4-7c61-4a09-d04d-9dba3dd286c7"
      },
      "outputs": [
        {
          "name": "stdout",
          "output_type": "stream",
          "text": [
            "0.0002250429525068312\n",
            "3\n"
          ]
        }
      ],
      "source": [
        "list_of_losses_SVM = [loss1_SVM[-1], loss2_SVM[-1], loss3_SVM[-1], loss4_SVM[-1]]\n",
        "min_loss_SVM = min(list_of_losses_SVM)\n",
        "print(min_loss_SVM)\n",
        "min_params_SVM = list_of_losses_SVM.index(min_loss_SVM)\n",
        "print(min_params_SVM)"
      ]
    },
    {
      "cell_type": "markdown",
      "metadata": {
        "id": "Y-6Cx2r9Ztnj"
      },
      "source": [
        "Answer: The lowest loss of those hyper-parameter combinations I tried occurred when number of epochs = 10, learning rate = 0.1, batch size = 64, and momentum  = 0.9."
      ]
    },
    {
      "cell_type": "markdown",
      "metadata": {
        "id": "MBBIhPzMXctJ"
      },
      "source": [
        "### (b) (10 points) Report the **Average loss of an epoch** for every epoch by generating Average Loss vs. Epoch plot. Please report at least **10** epochs."
      ]
    },
    {
      "cell_type": "code",
      "execution_count": 33,
      "metadata": {
        "colab": {
          "base_uri": "https://localhost:8080/",
          "height": 295
        },
        "id": "JH6w-fvXXkLe",
        "outputId": "c9d67a71-9e0c-4fc9-bbce-3f56e5bc6bfe"
      },
      "outputs": [
        {
          "data": {
            "image/png": "[encoded data removed]",
            "text/plain": [
              "<Figure size 432x288 with 1 Axes>"
            ]
          },
          "metadata": {
            "needs_background": "light"
          },
          "output_type": "display_data"
        }
      ],
      "source": [
        "## Plot:\n",
        "\n",
        "## Plot:\n",
        "plt.plot(range(0, len(loss4_SVM)), loss4_SVM)\n",
        "plt.title(\"Average Loss vs. Epoch\")\n",
        "plt.ylabel(\"Average Loss\")\n",
        "plt.xlabel(\"Epoch\")\n",
        "plt.show()"
      ]
    },
    {
      "cell_type": "markdown",
      "metadata": {
        "id": "4-iSjv9UX-z2"
      },
      "source": [
        "### (c) (5 points) Report the final testing accuracy of trained model."
      ]
    },
    {
      "cell_type": "code",
      "execution_count": 34,
      "metadata": {
        "colab": {
          "base_uri": "https://localhost:8080/"
        },
        "id": "LvIfrVU7YBMH",
        "outputId": "027517ad-78a9-4994-e41c-5a9b1a1c7e77"
      },
      "outputs": [
        {
          "name": "stdout",
          "output_type": "stream",
          "text": [
            "Accuracy is:  0.9990543735224586\n"
          ]
        }
      ],
      "source": [
        "## Code:\n",
        "\n",
        "Test_Accuracy(model4_SVM, test_loader)"
      ]
    },
    {
      "cell_type": "markdown",
      "metadata": {
        "id": "kegz8m6glB3d"
      },
      "source": [
        "## Problem 2 (60 points)\n",
        "\n",
        "In this problem you will practice implementing MLP and CNN to classify daily life images (CIFAR10).\n",
        "\n",
        "**Data.** You will use CIFAR10 classification dataset (10 classes). Pytorch/torchvision has provide a useful dataloader to automatically download and load the data into batches. Code of the data loader has been provided in the template. Please don't modify the data loading part."
      ]
    },
    {
      "cell_type": "code",
      "execution_count": 35,
      "metadata": {
        "colab": {
          "base_uri": "https://localhost:8080/"
        },
        "id": "sJStVuRpqkzS",
        "outputId": "02ea4b7d-1a64-4b24-ba41-4024ff01ad37"
      },
      "outputs": [
        {
          "name": "stdout",
          "output_type": "stream",
          "text": [
            "Files already downloaded and verified\n",
            "50000\n"
          ]
        }
      ],
      "source": [
        "## Data loading code chunk, please don't modify it. \n",
        "## However, you can adjust the batch size if you want to.\n",
        "\n",
        "\n",
        "\n",
        "import torch\n",
        "import torch.nn as nn\n",
        "import torch.optim as optim\n",
        "import torch.nn.functional as F\n",
        "import numpy as np\n",
        "import torch.utils.data as td\n",
        "import random, time\n",
        "import matplotlib.pyplot as plt\n",
        "from torchvision import datasets, transforms\n",
        "from torch.utils.data.sampler import SubsetRandomSampler\n",
        "\n",
        "batch_size_cifar = 100\n",
        "data_dir = './data'\n",
        "\n",
        "def cifar_loaders(batch_size, shuffle_test=False): \n",
        "    normalize = transforms.Normalize(mean=[0.485, 0.456, 0.406],\n",
        "                                     std=[0.225, 0.225, 0.225])\n",
        "    train = datasets.CIFAR10(data_dir, train=True, download=True, \n",
        "        transform=transforms.Compose([\n",
        "            transforms.RandomHorizontalFlip(),\n",
        "            transforms.RandomCrop(32, 4),\n",
        "            transforms.ToTensor(),\n",
        "            normalize,\n",
        "        ]))\n",
        "    # Once you have downloaded the data by setting download=True, you can\n",
        "    # change download=True to download=False\n",
        "    test = datasets.CIFAR10(data_dir, train=False, \n",
        "        transform=transforms.Compose([transforms.ToTensor(), normalize]))\n",
        "    train_loader = torch.utils.data.DataLoader(train, batch_size=batch_size,\n",
        "        shuffle=True, pin_memory=True)\n",
        "    test_loader = torch.utils.data.DataLoader(test, batch_size=batch_size,\n",
        "        shuffle=shuffle_test, pin_memory=True)\n",
        "    return train_loader, test_loader\n",
        "\n",
        "train_loader_cifar, test_loader_cifar = cifar_loaders(batch_size_cifar)\n",
        "print(len(train_loader_cifar.dataset))"
      ]
    },
    {
      "cell_type": "markdown",
      "metadata": {
        "id": "vZWcD3ufnEcJ"
      },
      "source": [
        "### **Problem Description.**\n",
        "### 1. (20 points) Implement a 7 layers fully-connected neural networks with ReLU activation to do image classification. "
      ]
    },
    {
      "cell_type": "code",
      "execution_count": 36,
      "metadata": {
        "colab": {
          "base_uri": "https://localhost:8080/"
        },
        "id": "V5VxD0V8Qg4s",
        "outputId": "16a0581d-e1cb-473d-f3f9-6bea747c235f"
      },
      "outputs": [
        {
          "name": "stdout",
          "output_type": "stream",
          "text": [
            "Using cuda device\n"
          ]
        }
      ],
      "source": [
        "device = \"cuda\" if torch.cuda.is_available() else \"cpu\"\n",
        "print(f\"Using {device} device\")"
      ]
    },
    {
      "cell_type": "code",
      "execution_count": 48,
      "metadata": {
        "id": "CWHfa3bnnIpD"
      },
      "outputs": [],
      "source": [
        "class NeuralNet(nn.Module):\n",
        "\n",
        "    def __init__(self):\n",
        "      super(NeuralNet, self).__init__()\n",
        "      # With a neural net we need to flatten\n",
        "      self.flatten = nn.Flatten()\n",
        "      self.feature = nn.Sequential(nn.Linear(3072,180), nn.ReLU(True), \n",
        "                                   nn.Linear(180,360), nn.ReLU(True),\n",
        "                                   nn.Linear(360,200), nn.ReLU(True),\n",
        "                                   nn.Linear(200,250), nn.ReLU(True),\n",
        "                                   nn.Linear(250,80), nn.ReLU(True),\n",
        "                                   nn.Linear(80,120), nn.ReLU(True),\n",
        "                                   nn.Linear(120,10), nn.ReLU(True))\n",
        "\n",
        "    def forward(self, x):\n",
        "      x = self.feature(x)\n",
        "      output = x\n",
        "      return output"
      ]
    },
    {
      "cell_type": "code",
      "execution_count": 49,
      "metadata": {
        "id": "FauxKKfsLBcS"
      },
      "outputs": [],
      "source": [
        "def hype_tune_NN(num_epochs, lr, batch_size, train_loader_cifar = train_loader_cifar):\n",
        "  print(\"\")\n",
        "  print(\" >>>> Number of Epochs: \", num_epochs, \" Learning Rate: \", lr, \" Batch Size: \", batch_size, \"<<<<\")\n",
        "  print(\"\")\n",
        "\n",
        "  ### Intantiating the model\n",
        "  model_NN = NeuralNet()\n",
        "  model_NN.to(device)\n",
        "\n",
        "  ### I am going to use the Binary Cross Entropy Loss for Logistic\n",
        "  criterion = nn.CrossEntropyLoss()\n",
        "\n",
        "  iter = 0\n",
        "  losses = list()\n",
        "  optimizer = optim.SGD(model_NN.parameters(),lr=lr)\n",
        "  print(\"Starting for loop\")\n",
        "\n",
        "  for epoch in range(num_epochs):\n",
        "\n",
        "      epoch_losses = list()\n",
        "\n",
        "      for i, (images, labels) in enumerate(train_loader_cifar):\n",
        "\n",
        "          ## TODO \n",
        "\n",
        "          # 1. Compute Loss. Check torch functions for the corresponding loss for Logistic and SVM\n",
        "          # print(i, images.size())\n",
        "          images = images.view(100, -1)\n",
        "\n",
        "          # print(images.size())\n",
        "          images = images.to(device)\n",
        "          labels = labels.to(device)\n",
        "          optimizer.zero_grad()\n",
        "          y_predict = model_NN(images)\n",
        "          loss = criterion(y_predict, labels)\n",
        "          \n",
        "          # 2. Do optimization. Chec torch.optim to see how to do optimization with pytorch\n",
        " \n",
        "          loss.backward()\n",
        "          optimizer.step()\n",
        "          \n",
        "          iter += 1\n",
        "\n",
        "          # 3. Save batch loss\n",
        "          epoch_losses.append(loss.item()) \n",
        "\n",
        "      ## Save average epoch loss\n",
        "        # if (iter) % 64 == 0:\n",
        "      losses.append(np.average(epoch_losses))\n",
        "      print('Epoch: {} :: Iteration: {} :: Loss: {}  '.format(epoch, iter, losses[-1], ))\n",
        "\n",
        "  return losses, model_NN"
      ]
    },
    {
      "cell_type": "code",
      "execution_count": 50,
      "metadata": {
        "colab": {
          "base_uri": "https://localhost:8080/"
        },
        "id": "RQzxnOj8LNtI",
        "outputId": "de64f5c2-adba-4425-a72a-5548a6c40366"
      },
      "outputs": [
        {
          "name": "stdout",
          "output_type": "stream",
          "text": [
            "\n",
            " >>>> Number of Epochs:  10  Learning Rate:  0.1  Batch Size:  100 <<<<\n",
            "\n",
            "Starting for loop\n",
            "Epoch: 0 :: Iteration: 500 :: Loss: 2.2751150403022766  \n",
            "Epoch: 1 :: Iteration: 1000 :: Loss: 2.1113530759811403  \n",
            "Epoch: 2 :: Iteration: 1500 :: Loss: 1.910115234375  \n",
            "Epoch: 3 :: Iteration: 2000 :: Loss: 1.8131835632324218  \n",
            "Epoch: 4 :: Iteration: 2500 :: Loss: 1.7564674370288849  \n",
            "Epoch: 5 :: Iteration: 3000 :: Loss: 1.7099139459133148  \n",
            "Epoch: 6 :: Iteration: 3500 :: Loss: 1.5621167159080505  \n",
            "Epoch: 7 :: Iteration: 4000 :: Loss: 1.5201233100891114  \n",
            "Epoch: 8 :: Iteration: 4500 :: Loss: 1.4909598872661591  \n",
            "Epoch: 9 :: Iteration: 5000 :: Loss: 1.468035308599472  \n",
            "\n",
            " >>>> Number of Epochs:  10  Learning Rate:  0.01  Batch Size:  100 <<<<\n",
            "\n",
            "Starting for loop\n",
            "Epoch: 0 :: Iteration: 500 :: Loss: 2.3026757760047913  \n",
            "Epoch: 1 :: Iteration: 1000 :: Loss: 2.3019942064285277  \n",
            "Epoch: 2 :: Iteration: 1500 :: Loss: 2.3012231154441833  \n",
            "Epoch: 3 :: Iteration: 2000 :: Loss: 2.2999197540283203  \n",
            "Epoch: 4 :: Iteration: 2500 :: Loss: 2.2969357061386106  \n",
            "Epoch: 5 :: Iteration: 3000 :: Loss: 2.289559669017792  \n",
            "Epoch: 6 :: Iteration: 3500 :: Loss: 2.2709181337356568  \n",
            "Epoch: 7 :: Iteration: 4000 :: Loss: 2.2197330741882326  \n",
            "Epoch: 8 :: Iteration: 4500 :: Loss: 2.1918117928504945  \n",
            "Epoch: 9 :: Iteration: 5000 :: Loss: 2.180338957309723  \n"
          ]
        }
      ],
      "source": [
        "NN_losses, NN_mod = hype_tune_NN(10, 0.1, 100)\n",
        "NN_losses2, NN_mod2 = hype_tune_NN(10, 0.01, 100)"
      ]
    },
    {
      "cell_type": "markdown",
      "metadata": {
        "id": "gUJzcn1QGwPG"
      },
      "source": [
        "Of the two sets of hyperparameters I tried with the fully-connected neural net, the one with 10 epochs, a learning rate of 0.1, and a batch size of 100 with no momentum had the lower loss."
      ]
    },
    {
      "cell_type": "markdown",
      "metadata": {
        "id": "KtW8DhiBN01f"
      },
      "source": [
        "Note: I used the following resources to create the NN Code:\n",
        "\n",
        "https://www.kaggle.com/code/shadabhussain/cifar-10-cnn-using-pytorch\n",
        "\n",
        "https://pytorch.org/tutorials/beginner/basics/buildmodel_tutorial.html\n"
      ]
    },
    {
      "cell_type": "markdown",
      "metadata": {
        "id": "L7AJxlCVZA4L"
      },
      "source": [
        "### (a) (5 points) Print the model architecture."
      ]
    },
    {
      "cell_type": "code",
      "execution_count": 51,
      "metadata": {
        "colab": {
          "base_uri": "https://localhost:8080/"
        },
        "id": "vK8zxDXqZSLw",
        "outputId": "299475d0-c8cf-4706-b5a0-9ef1d18bd880"
      },
      "outputs": [
        {
          "name": "stdout",
          "output_type": "stream",
          "text": [
            "NeuralNet(\n",
            "  (flatten): Flatten(start_dim=1, end_dim=-1)\n",
            "  (feature): Sequential(\n",
            "    (0): Linear(in_features=3072, out_features=180, bias=True)\n",
            "    (1): ReLU(inplace=True)\n",
            "    (2): Linear(in_features=180, out_features=360, bias=True)\n",
            "    (3): ReLU(inplace=True)\n",
            "    (4): Linear(in_features=360, out_features=200, bias=True)\n",
            "    (5): ReLU(inplace=True)\n",
            "    (6): Linear(in_features=200, out_features=250, bias=True)\n",
            "    (7): ReLU(inplace=True)\n",
            "    (8): Linear(in_features=250, out_features=80, bias=True)\n",
            "    (9): ReLU(inplace=True)\n",
            "    (10): Linear(in_features=80, out_features=120, bias=True)\n",
            "    (11): ReLU(inplace=True)\n",
            "    (12): Linear(in_features=120, out_features=10, bias=True)\n",
            "    (13): ReLU(inplace=True)\n",
            "  )\n",
            ")\n"
          ]
        }
      ],
      "source": [
        "## Print the model:\n",
        "print(NeuralNet())"
      ]
    },
    {
      "cell_type": "markdown",
      "metadata": {
        "id": "KYWHWEGinOyC"
      },
      "source": [
        "### (b) (10 points) Report the **Average loss of an epoch** for every epoch by generating Average Loss vs. Epoch plot. Please report at least **10** epochs."
      ]
    },
    {
      "cell_type": "code",
      "execution_count": 52,
      "metadata": {
        "colab": {
          "base_uri": "https://localhost:8080/",
          "height": 295
        },
        "id": "L8pJfqcHm89-",
        "outputId": "8d04b736-db80-442e-da74-4c0a37ea60e3"
      },
      "outputs": [
        {
          "data": {
            "image/png": "[encoded data removed]",
            "text/plain": [
              "<Figure size 432x288 with 1 Axes>"
            ]
          },
          "metadata": {
            "needs_background": "light"
          },
          "output_type": "display_data"
        }
      ],
      "source": [
        "## Plot:\n",
        "\n",
        "plt.plot(range(0, len(NN_losses)), NN_losses)\n",
        "plt.title(\"Average Loss vs. Epoch\")\n",
        "plt.ylabel(\"Average Loss\")\n",
        "plt.xlabel(\"Epoch\")\n",
        "plt.show()"
      ]
    },
    {
      "cell_type": "markdown",
      "metadata": {
        "id": "2CSl47RKppHM"
      },
      "source": [
        "### (c) (5 points) Report the final testing accuracy of trained model."
      ]
    },
    {
      "cell_type": "code",
      "execution_count": 53,
      "metadata": {
        "id": "j56JIxgGabx4"
      },
      "outputs": [],
      "source": [
        "## Code:\n",
        "\n",
        "def Test_Accuracy_NN(model, test_data_loader):\n",
        "\n",
        "  iters = 0\n",
        "  correct = 0\n",
        "\n",
        "  for images, labels in test_data_loader:\n",
        "\n",
        "    images = images.view(100, -1)\n",
        "    images = images.to(device)\n",
        "    labels = labels.to(device)\n",
        "    labels = labels.float()\n",
        "    y_predict = model(images)\n",
        "     ## We take the output neuron with the highest predicted value\n",
        "    max_index, y_pred_max = torch.max(y_predict, dim = 1)\n",
        "    iters += labels.size(0)\n",
        "    correct += (y_pred_max == labels).sum().item()\n",
        "\n",
        "  accuracy = correct / iters\n",
        "  print(f\"Test Accuracy is: \", accuracy)\n"
      ]
    },
    {
      "cell_type": "code",
      "execution_count": 54,
      "metadata": {
        "colab": {
          "base_uri": "https://localhost:8080/"
        },
        "id": "71u05hUhO8gY",
        "outputId": "c3135d48-e77f-4034-ac5a-55286d24fd2f"
      },
      "outputs": [
        {
          "name": "stdout",
          "output_type": "stream",
          "text": [
            "Test Accuracy is:  0.4821\n"
          ]
        }
      ],
      "source": [
        "Test_Accuracy_NN(NN_mod, test_loader_cifar)"
      ]
    },
    {
      "cell_type": "markdown",
      "metadata": {
        "id": "VbHsQrUyqNCR"
      },
      "source": [
        "### 2. (30 points) Implement a 7 layers CNN with 4 convolutional layers, 3 fully-connected layers and ReLU activation function. The input dimension of the 1st fully-connected layer must be 4096."
      ]
    },
    {
      "cell_type": "code",
      "execution_count": 44,
      "metadata": {
        "id": "Uy7Tb8W8qUMr"
      },
      "outputs": [],
      "source": [
        "## Implementation of CNN\n",
        "## You can insert more code chunks and text cells if you want to.\n",
        "## Your code:\n",
        "\n",
        "# We know images is torch.Size([63,3,32,32])\n",
        "\n",
        "class CNN(nn.Module):\n",
        "    def __init__(self):\n",
        "        super().__init__()\n",
        "        self.conv1 = nn.Conv2d(in_channels = 3, out_channels = 6, kernel_size = 3)\n",
        "        self.conv2 = nn.Conv2d(in_channels = 6, out_channels = 16, kernel_size = 3)\n",
        "        self.pool = nn.MaxPool2d(2,2)\n",
        "        self.pool3 = nn.MaxPool2d(3,3)\n",
        "        self.dropout = nn.Dropout(0.15)\n",
        "        self.conv3 = nn.Conv2d(in_channels = 16, out_channels = 32, kernel_size = 3)\n",
        "        self.conv4 = nn.Conv2d(in_channels = 32, out_channels = 64, kernel_size = 3)\n",
        "        self.fc1 = nn.Linear(4*32*32, 120)\n",
        "        self.fc2 = nn.Linear(120, 84)\n",
        "        self.fc3 = nn.Linear(84, 10)\n",
        "\n",
        "\n",
        "    def forward(self, x):\n",
        "        x = (F.relu(self.conv1(x)))\n",
        "        x = (F.relu(self.conv2(x)))\n",
        "        x = self.dropout(x)\n",
        "        x = (F.relu(self.conv3(x)))  \n",
        "        x = self.pool3(F.relu(self.conv4(x)))\n",
        "        x = torch.flatten(x, 1) # flatten all dimensions except batch\n",
        "        self.dropout(x)\n",
        "        x = F.relu(self.fc1(x))\n",
        "        x = F.relu(self.fc2(x))\n",
        "        x = self.dropout(x)\n",
        "        x = self.fc3(x)\n",
        "        return x\n",
        "\n",
        "\n"
      ]
    },
    {
      "cell_type": "code",
      "execution_count": 45,
      "metadata": {
        "id": "Z5BSajajVohg"
      },
      "outputs": [],
      "source": [
        "def hype_tune_CNN(num_epochs, lr, batch_size, train_loader_cifar = train_loader_cifar):\n",
        "  print(\"\")\n",
        "  print(\" >>>> Number of Epochs: \", num_epochs, \" Learning Rate: \", lr, \" Batch Size: \", batch_size, \"<<<<\")\n",
        "  print(\"\")\n",
        "\n",
        "  ### Instantiating the model\n",
        "  model_CNN = CNN()\n",
        "  model_CNN.to(device)\n",
        "\n",
        "  ### I am going to use the Binary Cross Entropy Loss for Logistic\n",
        "  criterion = nn.CrossEntropyLoss()\n",
        "\n",
        "  iter = 0\n",
        "  losses = list()\n",
        "  optimizer = optim.SGD(model_CNN.parameters(),lr=lr)\n",
        "  print(\"Starting for loop\")\n",
        "\n",
        "  for epoch in range(num_epochs):\n",
        "\n",
        "      epoch_losses = list()\n",
        "\n",
        "      for i, (images, labels) in enumerate(train_loader_cifar):\n",
        "\n",
        "          ## TODO \n",
        "\n",
        "          # 1. Compute Loss. Check torch functions for the corresponding loss for Logistic and SVM\n",
        "          # print(i, images.size())\n",
        "          # images = images.view(100, -1)\n",
        "\n",
        "          # print(images.size())\n",
        "          # print(device)\n",
        "          images = images.to(device)\n",
        "          labels = labels.to(device)\n",
        "          # print(images.device)\n",
        "          # print(labels.device)\n",
        "          # print(model_NN.device)\n",
        "          optimizer.zero_grad()\n",
        "          y_predict = model_CNN(images)\n",
        "          loss = criterion(y_predict, labels)\n",
        "          \n",
        "          # 2. Do optimization. Chec torch.optim to see how to do optimization with pytorch\n",
        "\n",
        "          loss.backward()\n",
        "          optimizer.step()\n",
        "          \n",
        "          iter += 1\n",
        "\n",
        "          # 3. Save batch loss\n",
        "          epoch_losses.append(loss.item()) \n",
        "\n",
        "      ## Save average epoch loss\n",
        "        # if (iter) % 64 == 0:\n",
        "      losses.append(np.average(epoch_losses))\n",
        "      print('Epoch: {} :: Iteration: {} :: Loss: {}  '.format(epoch, iter, losses[-1], ))\n",
        "\n",
        "\n",
        "  return losses, model_CNN"
      ]
    },
    {
      "cell_type": "code",
      "execution_count": 46,
      "metadata": {
        "colab": {
          "base_uri": "https://localhost:8080/"
        },
        "id": "MJfUBA2lhWrJ",
        "outputId": "1ff3ae79-1f4d-442f-fdd8-f52ad34a9be2"
      },
      "outputs": [
        {
          "name": "stdout",
          "output_type": "stream",
          "text": [
            "\n",
            " >>>> Number of Epochs:  10  Learning Rate:  0.1  Batch Size:  100 <<<<\n",
            "\n",
            "Starting for loop\n",
            "Epoch: 0 :: Iteration: 500 :: Loss: 2.1812491252422332  \n",
            "Epoch: 1 :: Iteration: 1000 :: Loss: 1.895059068918228  \n",
            "Epoch: 2 :: Iteration: 1500 :: Loss: 1.7144573636054992  \n",
            "Epoch: 3 :: Iteration: 2000 :: Loss: 1.5593539731502533  \n",
            "Epoch: 4 :: Iteration: 2500 :: Loss: 1.421438115119934  \n",
            "Epoch: 5 :: Iteration: 3000 :: Loss: 1.3020122748613359  \n",
            "Epoch: 6 :: Iteration: 3500 :: Loss: 1.2190733706951142  \n",
            "Epoch: 7 :: Iteration: 4000 :: Loss: 1.1493120149374008  \n",
            "Epoch: 8 :: Iteration: 4500 :: Loss: 1.0921173218488693  \n",
            "Epoch: 9 :: Iteration: 5000 :: Loss: 1.0433399212360381  \n"
          ]
        }
      ],
      "source": [
        "CNN_losses, CNN_mod = hype_tune_CNN(10, 0.1, 100)"
      ]
    },
    {
      "cell_type": "code",
      "execution_count": 47,
      "metadata": {
        "colab": {
          "base_uri": "https://localhost:8080/"
        },
        "id": "dvRutMHMJKt9",
        "outputId": "83c62494-bcd5-43f1-d000-0962d4f0a79c"
      },
      "outputs": [
        {
          "name": "stdout",
          "output_type": "stream",
          "text": [
            "\n",
            " >>>> Number of Epochs:  10  Learning Rate:  0.01  Batch Size:  100 <<<<\n",
            "\n",
            "Starting for loop\n",
            "Epoch: 0 :: Iteration: 500 :: Loss: 2.2944551019668578  \n",
            "Epoch: 1 :: Iteration: 1000 :: Loss: 2.160778523683548  \n",
            "Epoch: 2 :: Iteration: 1500 :: Loss: 2.013424638271332  \n",
            "Epoch: 3 :: Iteration: 2000 :: Loss: 1.953555480480194  \n",
            "Epoch: 4 :: Iteration: 2500 :: Loss: 1.90576544713974  \n",
            "Epoch: 5 :: Iteration: 3000 :: Loss: 1.856375496864319  \n",
            "Epoch: 6 :: Iteration: 3500 :: Loss: 1.806465538263321  \n",
            "Epoch: 7 :: Iteration: 4000 :: Loss: 1.7455555057525636  \n",
            "Epoch: 8 :: Iteration: 4500 :: Loss: 1.6956315703392029  \n",
            "Epoch: 9 :: Iteration: 5000 :: Loss: 1.6646231994628906  \n"
          ]
        }
      ],
      "source": [
        "CNN_losses2, CNN_mod2 = hype_tune_CNN(10, 0.01, 100)"
      ]
    },
    {
      "cell_type": "markdown",
      "metadata": {
        "id": "VFpLEy6lJOaj"
      },
      "source": [
        "Again, we see that between the two sets of hyperparameters I chose here, the model with the lower loss after 10 epochs is the one with the higher learnning rate of 0.1 (CNN_mod) instead of 0.01."
      ]
    },
    {
      "cell_type": "markdown",
      "metadata": {
        "id": "9X_eNkjVqUtJ"
      },
      "source": [
        "### (a) (5 points) Print the model architecture."
      ]
    },
    {
      "cell_type": "code",
      "execution_count": 60,
      "metadata": {
        "colab": {
          "base_uri": "https://localhost:8080/"
        },
        "id": "uauSCPLpa5zp",
        "outputId": "5e3e4a8d-aead-487f-96ed-d4a739de9cab"
      },
      "outputs": [
        {
          "name": "stdout",
          "output_type": "stream",
          "text": [
            "CNN(\n",
            "  (conv1): Conv2d(3, 6, kernel_size=(3, 3), stride=(1, 1))\n",
            "  (conv2): Conv2d(6, 16, kernel_size=(3, 3), stride=(1, 1))\n",
            "  (pool): MaxPool2d(kernel_size=2, stride=2, padding=0, dilation=1, ceil_mode=False)\n",
            "  (pool3): MaxPool2d(kernel_size=3, stride=3, padding=0, dilation=1, ceil_mode=False)\n",
            "  (dropout): Dropout(p=0.15, inplace=False)\n",
            "  (conv3): Conv2d(16, 32, kernel_size=(3, 3), stride=(1, 1))\n",
            "  (conv4): Conv2d(32, 64, kernel_size=(3, 3), stride=(1, 1))\n",
            "  (fc1): Linear(in_features=4096, out_features=120, bias=True)\n",
            "  (fc2): Linear(in_features=120, out_features=84, bias=True)\n",
            "  (fc3): Linear(in_features=84, out_features=10, bias=True)\n",
            ")\n"
          ]
        }
      ],
      "source": [
        "## Print the model:\n",
        "\n",
        "print(CNN())"
      ]
    },
    {
      "cell_type": "markdown",
      "metadata": {
        "id": "1YsS3aAwa7m5"
      },
      "source": [
        "### (b) (10 points) Report the **Average loss of an epoch** for every epoch by generating Average Loss vs. Epoch plot. Please report at least **10** epochs."
      ]
    },
    {
      "cell_type": "code",
      "execution_count": 72,
      "metadata": {
        "colab": {
          "base_uri": "https://localhost:8080/",
          "height": 295
        },
        "id": "vHO3ftYObA8O",
        "outputId": "bd6f30d5-1ed7-434a-8087-5b221569a85e"
      },
      "outputs": [
        {
          "data": {
            "image/png": "[encoded data removed]",
            "text/plain": [
              "<Figure size 432x288 with 1 Axes>"
            ]
          },
          "metadata": {
            "needs_background": "light"
          },
          "output_type": "display_data"
        }
      ],
      "source": [
        "## Plot:\n",
        "\n",
        "plt.plot(range(0, len(CNN_losses)), CNN_losses)\n",
        "plt.title(\"Average Loss vs. Epoch\")\n",
        "plt.ylabel(\"Average Loss\")\n",
        "plt.xlabel(\"Epoch\")\n",
        "plt.show()"
      ]
    },
    {
      "cell_type": "markdown",
      "metadata": {
        "id": "pb3abqoabCc1"
      },
      "source": [
        "### (c) (5 points) Report the final testing accuracy of trained model."
      ]
    },
    {
      "cell_type": "code",
      "execution_count": 58,
      "metadata": {
        "id": "L7_rnkvdbEWN"
      },
      "outputs": [],
      "source": [
        "## Code:\n",
        "\n",
        "def Test_Accuracy_CNN(CNN_mod = CNN_mod, test_loader_cifar = test_loader_cifar):\n",
        "\n",
        "  #Since we're doing prediction, we don't need to calculate the gradient\n",
        "  with torch.no_grad():\n",
        "\n",
        "    iters = 0\n",
        "    correct = 0\n",
        "\n",
        "    for images, labels in test_loader_cifar:\n",
        "\n",
        "      # images = images.view(100, -1)\n",
        "      images = images.to(device)\n",
        "      labels = labels.to(device)\n",
        "      labels = labels.float()\n",
        "      y_predict = CNN_mod(images)\n",
        "      ## We take the output neuron with the highest predicted value\n",
        "      max_index, y_pred_max = torch.max(y_predict, dim = 1)\n",
        "      iters += labels.size(0)\n",
        "      correct += (y_pred_max == labels).sum().item()\n",
        "\n",
        "    accuracy = correct / iters\n",
        "    print(f\"Test Accuracy is: \", accuracy)"
      ]
    },
    {
      "cell_type": "code",
      "execution_count": 74,
      "metadata": {
        "colab": {
          "base_uri": "https://localhost:8080/"
        },
        "id": "aMnPSNoLIGrJ",
        "outputId": "4e1e3caa-a820-4ae9-af53-2d019c851054"
      },
      "outputs": [
        {
          "name": "stdout",
          "output_type": "stream",
          "text": [
            "Test Accuracy is:  0.6848\n"
          ]
        }
      ],
      "source": [
        "Test_Accuracy_CNN()"
      ]
    },
    {
      "cell_type": "markdown",
      "metadata": {
        "id": "m1tfLFPRbFYZ"
      },
      "source": [
        "### (d) (10 points) Write a new cifar$\\_$loaders function to try different data augmentation methods."
      ]
    },
    {
      "cell_type": "code",
      "execution_count": 55,
      "metadata": {
        "colab": {
          "base_uri": "https://localhost:8080/"
        },
        "id": "ck8sXvXqbH4C",
        "outputId": "a73f18a3-6d93-40b7-c734-7d9528dc9b3c"
      },
      "outputs": [
        {
          "name": "stdout",
          "output_type": "stream",
          "text": [
            "Files already downloaded and verified\n",
            "Files already downloaded and verified\n"
          ]
        }
      ],
      "source": [
        "## Code:\n",
        "\n",
        "\n",
        "# Here I will define a few different sets of transforms that could be used to augment the data. \n",
        "\n",
        "from torchvision.transforms import Compose \n",
        "\n",
        "train_transform_1 = Compose([ \n",
        "    transforms.RandomVerticalFlip(p=0.75),\n",
        "    transforms.ToTensor(),\n",
        "    transforms.Normalize([0, 0, 0], [1, 1, 1])\n",
        "])\n",
        "\n",
        "train_transform_2 = Compose([ transforms.RandomPerspective(75),\n",
        "                             #This randomly inverts pixels above a certain value\n",
        "                             transforms.RandomSolarize(0.1, 0.5),\n",
        "                             transforms.ToTensor(),\n",
        "                             transforms.Normalize([0, 0, 0], [1, 1, 1])\n",
        "])\n",
        "\n",
        "\n",
        "def cifar_loaders_transform(batch_size, transformations, shuffle_test=False): \n",
        "    normalize = transforms.Normalize(mean=[0.485, 0.456, 0.406],\n",
        "                                     std=[0.225, 0.225, 0.225])\n",
        "    \n",
        "    ### Here is where you can use different transforms!\n",
        "    train = datasets.CIFAR10(data_dir, train=True, download=True, \n",
        "        transform=transformations)\n",
        "    \n",
        "    test = datasets.CIFAR10(data_dir, train=False, \n",
        "        transform=transforms.Compose([transforms.ToTensor(), transforms.Normalize([0, 0, 0], [1, 1, 1])]))\n",
        "    \n",
        "\n",
        "    train_loader = torch.utils.data.DataLoader(train, batch_size=batch_size,\n",
        "        shuffle=True, pin_memory=True)\n",
        "    test_loader = torch.utils.data.DataLoader(test, batch_size=batch_size,\n",
        "        shuffle=shuffle_test, pin_memory=True)\n",
        "    return train_loader, test_loader\n",
        "\n",
        "train_loader_cifar2, test_loader_cifar2 = cifar_loaders_transform(batch_size_cifar, train_transform_1)\n",
        "train_loader_cifar3, test_loader_cifar3 = cifar_loaders_transform(batch_size_cifar, train_transform_2)"
      ]
    },
    {
      "cell_type": "code",
      "execution_count": 56,
      "metadata": {
        "colab": {
          "base_uri": "https://localhost:8080/"
        },
        "id": "-i_2hrQfFdcr",
        "outputId": "f45bfefa-8989-4f24-a3e3-0dd9aaa33e80"
      },
      "outputs": [
        {
          "name": "stdout",
          "output_type": "stream",
          "text": [
            "\n",
            " >>>> Number of Epochs:  10  Learning Rate:  0.1  Batch Size:  100 <<<<\n",
            "\n",
            "Starting for loop\n",
            "Epoch: 0 :: Iteration: 500 :: Loss: 2.3003194789886474  \n",
            "Epoch: 1 :: Iteration: 1000 :: Loss: 2.138669214248657  \n",
            "Epoch: 2 :: Iteration: 1500 :: Loss: 1.9141116499900819  \n",
            "Epoch: 3 :: Iteration: 2000 :: Loss: 1.7911286563873292  \n",
            "Epoch: 4 :: Iteration: 2500 :: Loss: 1.6527294149398803  \n",
            "Epoch: 5 :: Iteration: 3000 :: Loss: 1.5085359511375427  \n",
            "Epoch: 6 :: Iteration: 3500 :: Loss: 1.4187828249931336  \n",
            "Epoch: 7 :: Iteration: 4000 :: Loss: 1.3219720336198806  \n",
            "Epoch: 8 :: Iteration: 4500 :: Loss: 1.2539794957637787  \n",
            "Epoch: 9 :: Iteration: 5000 :: Loss: 1.1802804691791535  \n"
          ]
        }
      ],
      "source": [
        "CNN_losses2, CNN_mod2 = hype_tune_CNN(10, 0.1, 100, train_loader_cifar2)"
      ]
    },
    {
      "cell_type": "code",
      "execution_count": 59,
      "metadata": {
        "colab": {
          "base_uri": "https://localhost:8080/"
        },
        "id": "lCBBDc60IXQc",
        "outputId": "bf4f6b61-6f2a-4067-b102-6d2c6c50826f"
      },
      "outputs": [
        {
          "name": "stdout",
          "output_type": "stream",
          "text": [
            "Test Accuracy is:  0.5087\n"
          ]
        }
      ],
      "source": [
        "Test_Accuracy_CNN(CNN_mod2, test_loader_cifar2)"
      ]
    },
    {
      "cell_type": "code",
      "execution_count": 60,
      "metadata": {
        "colab": {
          "base_uri": "https://localhost:8080/"
        },
        "id": "WaD5NLL-Gnge",
        "outputId": "109671cf-dadc-408f-909a-48c1c27bbe88"
      },
      "outputs": [
        {
          "name": "stdout",
          "output_type": "stream",
          "text": [
            "\n",
            " >>>> Number of Epochs:  10  Learning Rate:  0.1  Batch Size:  100 <<<<\n",
            "\n",
            "Starting for loop\n",
            "Epoch: 0 :: Iteration: 500 :: Loss: 2.3030995383262636  \n",
            "Epoch: 1 :: Iteration: 1000 :: Loss: 2.3028348479270937  \n",
            "Epoch: 2 :: Iteration: 1500 :: Loss: 2.302688429355621  \n",
            "Epoch: 3 :: Iteration: 2000 :: Loss: 2.301919527053833  \n",
            "Epoch: 4 :: Iteration: 2500 :: Loss: 2.298336494922638  \n",
            "Epoch: 5 :: Iteration: 3000 :: Loss: 2.2896360516548158  \n",
            "Epoch: 6 :: Iteration: 3500 :: Loss: 2.2638634276390075  \n",
            "Epoch: 7 :: Iteration: 4000 :: Loss: 2.185349744319916  \n",
            "Epoch: 8 :: Iteration: 4500 :: Loss: 2.126018327951431  \n",
            "Epoch: 9 :: Iteration: 5000 :: Loss: 2.092679036617279  \n"
          ]
        }
      ],
      "source": [
        "CNN_losses3, CNN_mod3 = hype_tune_CNN(10, 0.1, 100, train_loader_cifar3)"
      ]
    },
    {
      "cell_type": "code",
      "execution_count": 61,
      "metadata": {
        "colab": {
          "base_uri": "https://localhost:8080/"
        },
        "id": "oaOLcC6iIZRi",
        "outputId": "6659d28d-f48a-4dc0-ebbf-8126f5ef08e7"
      },
      "outputs": [
        {
          "name": "stdout",
          "output_type": "stream",
          "text": [
            "Test Accuracy is:  0.348\n"
          ]
        }
      ],
      "source": [
        "Test_Accuracy_CNN(CNN_mod3, test_loader_cifar3)"
      ]
    },
    {
      "cell_type": "code",
      "execution_count": 43,
      "metadata": {
        "colab": {
          "base_uri": "https://localhost:8080/"
        },
        "id": "qFc_zYNRJL2L",
        "outputId": "135dae0d-97e1-4fe0-9bb5-e08311fb3b7b"
      },
      "outputs": [
        {
          "name": "stdout",
          "output_type": "stream",
          "text": [
            "\n",
            " >>>> Number of Epochs:  10  Learning Rate:  0.1  Batch Size:  100 <<<<\n",
            "\n",
            "Starting for loop\n",
            "Epoch: 0 :: Iteration: 500 :: Loss: 2.3015249142646788  \n",
            "Epoch: 1 :: Iteration: 1000 :: Loss: 2.210594249486923  \n",
            "Epoch: 2 :: Iteration: 1500 :: Loss: 2.0808105742931366  \n",
            "Epoch: 3 :: Iteration: 2000 :: Loss: 1.9768878843784332  \n",
            "Epoch: 4 :: Iteration: 2500 :: Loss: 1.8953319025039672  \n",
            "Epoch: 5 :: Iteration: 3000 :: Loss: 1.8401395168304444  \n",
            "Epoch: 6 :: Iteration: 3500 :: Loss: 1.793049777507782  \n",
            "Epoch: 7 :: Iteration: 4000 :: Loss: 1.7479873497486114  \n",
            "Epoch: 8 :: Iteration: 4500 :: Loss: 1.71213317155838  \n",
            "Epoch: 9 :: Iteration: 5000 :: Loss: 1.6792094604969026  \n"
          ]
        }
      ],
      "source": [
        "NN_losses2, NN_mod2 = hype_tune_NN(10, 0.1, 100, train_loader_cifar2)"
      ]
    },
    {
      "cell_type": "code",
      "execution_count": 48,
      "metadata": {
        "colab": {
          "base_uri": "https://localhost:8080/"
        },
        "id": "z_SXudfsJWLj",
        "outputId": "1f63f495-7454-4086-fb84-b90559e2e7fb"
      },
      "outputs": [
        {
          "name": "stdout",
          "output_type": "stream",
          "text": [
            "Accuracy is:  0.3599\n"
          ]
        }
      ],
      "source": [
        "Test_Accuracy_NN(NN_mod2, test_loader_cifar2)"
      ]
    },
    {
      "cell_type": "code",
      "execution_count": 62,
      "metadata": {
        "colab": {
          "base_uri": "https://localhost:8080/"
        },
        "id": "oYII5kZsJ2cd",
        "outputId": "9547b13a-c6d1-4a4f-e28e-e4dddd5d5d3f"
      },
      "outputs": [
        {
          "name": "stdout",
          "output_type": "stream",
          "text": [
            "\n",
            " >>>> Number of Epochs:  10  Learning Rate:  0.1  Batch Size:  100 <<<<\n",
            "\n",
            "Starting for loop\n",
            "Epoch: 0 :: Iteration: 500 :: Loss: 2.3026629786491393  \n",
            "Epoch: 1 :: Iteration: 1000 :: Loss: 2.302585841178894  \n",
            "Epoch: 2 :: Iteration: 1500 :: Loss: 2.3025858402252197  \n",
            "Epoch: 3 :: Iteration: 2000 :: Loss: 2.3025858306884768  \n",
            "Epoch: 4 :: Iteration: 2500 :: Loss: 2.3025858402252197  \n",
            "Epoch: 5 :: Iteration: 3000 :: Loss: 2.3025858402252197  \n",
            "Epoch: 6 :: Iteration: 3500 :: Loss: 2.302585841178894  \n",
            "Epoch: 7 :: Iteration: 4000 :: Loss: 2.302585841178894  \n",
            "Epoch: 8 :: Iteration: 4500 :: Loss: 2.3025858402252197  \n",
            "Epoch: 9 :: Iteration: 5000 :: Loss: 2.3025858402252197  \n"
          ]
        }
      ],
      "source": [
        "NN_losses3, NN_mod3 = hype_tune_NN(10, 0.1, 100, train_loader_cifar3)"
      ]
    },
    {
      "cell_type": "markdown",
      "metadata": {
        "id": "DEc7TpsyKx4r"
      },
      "source": [
        "There is some interesting behavior in the loss function here -- it seems that a local minimum or some other type of \"rut\" is reached and the descent function doesn't move any further. This might be interesting to look into further at a later point, but for now won't change the ain conclusion we'll draw here about the relative improved performance of CNN compared to NN on transformed or augmented data.\n",
        "\n"
      ]
    },
    {
      "cell_type": "code",
      "execution_count": 64,
      "metadata": {
        "colab": {
          "base_uri": "https://localhost:8080/"
        },
        "id": "_PRwv5_HKHj1",
        "outputId": "54addc4f-43eb-479d-dde1-f096f067ab4d"
      },
      "outputs": [
        {
          "name": "stdout",
          "output_type": "stream",
          "text": [
            "Test Accuracy is:  0.1\n"
          ]
        }
      ],
      "source": [
        "Test_Accuracy_NN(NN_mod3, test_loader_cifar3)"
      ]
    },
    {
      "cell_type": "markdown",
      "metadata": {
        "id": "7uUForcfbI1W"
      },
      "source": [
        "\n",
        "Answer: Above I ran both the MLP and the CNN on the augmented data using the set of transformations in 'train_transform_1' as above. The second set of transforms I created resulted in very low accuracy for both MLP (0.1) and CNN (0.348) when compared to the first set of tranforms I created (which had accuracy of 0.3599 for MLP and 0.5087 for CNN, respectively). However, all of these accuracies were still lower than that which I achieved with the set of transforms given in the original loaders in the homework. This exercise demonstrates the importance of data augmentation in the overall performance of the model."
      ]
    },
    {
      "cell_type": "markdown",
      "metadata": {
        "id": "6a0igZ32oqsh"
      },
      "source": [
        "I used this website to learn more about data augmentation for CNN and MLPs: \n",
        "\n",
        "https://medium.com/swlh/how-data-augmentation-improves-your-cnn-performance-an-experiment-in-pytorch-and-torchvision-e5fb36d038fb\n",
        "\n",
        "https://www.tutorialspoint.com/pytorch-torchvision-transforms-gaussianblur"
      ]
    },
    {
      "cell_type": "markdown",
      "metadata": {
        "id": "pF01LpJsbXSU"
      },
      "source": [
        "### 3. (10 points) Please compare the results of the two models (MLP and CNN)."
      ]
    },
    {
      "cell_type": "markdown",
      "metadata": {
        "id": "QpTZ4mm9bZxn"
      },
      "source": [
        "Answer:\n",
        "\n",
        "Overall, the CNN performed better than MLP on the data set with the transformations provided in the homework. Over the course of the homework, I tried several different combinations of optimizers and hyper-parameters. In every circumstance, including the final hyper-parameters that I selected and reported here, the fully connected neural network had a lower overall accuracy (0.4821) on the test data than the convolutional neural network (0.6848). \n",
        "\n",
        "When I used my own transforms, both the MLP and the CNN performed more poorly overall. In all cases, however, the CNN performs better than the MLP, even with the transforms that seemed to diminish the behavior of all models.\n",
        "\n",
        "It makes sense that the CNN would perform better on image data because it is designed to pick up on image-related features (i.e. edges) through it's kernels and pooling layers, which serve to reduce dimensionality. There are certain tasks which a fully-connected network might perform better on than a CNN, but according to the resources I found on the web, it's typical for a CNN to outperform a full-connected NN when image data is being used.\n",
        "\n",
        "I referenced this website in writing my answer: https://medium.datadriveninvestor.com/why-are-convolutional-neural-networks-good-for-image-classification-146ec6e865e8"
      ]
    }
  ],
  "metadata": {
    "accelerator": "GPU",
    "colab": {
      "collapsed_sections": [],
      "provenance": []
    },
    "gpuClass": "standard",
    "kernelspec": {
      "display_name": "Python 3",
      "name": "python3"
    },
    "language_info": {
      "name": "python"
    }
  },
  "nbformat": 4,
  "nbformat_minor": 0
}
